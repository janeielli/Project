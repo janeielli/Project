{
 "cells": [
  {
   "cell_type": "markdown",
   "metadata": {},
   "source": [
    "<center> Predicting Cryptocurrency Prices using Long Short-Term Memory <center>"
   ]
  },
  {
   "cell_type": "code",
   "execution_count": 11,
   "metadata": {},
   "outputs": [],
   "source": [
    "import numpy as np\n",
    "import pandas as pd\n",
    "import seaborn as sns\n",
    "import matplotlib.pyplot as plt\n",
    "from sklearn.metrics import mean_absolute_error\n",
    "from sklearn.model_selection import train_test_split\n",
    "from keras.layers import Activation, Dense, Dropout, LSTM\n",
    "from keras.models import Sequential"
   ]
  },
  {
   "cell_type": "markdown",
   "metadata": {},
   "source": [
    "##### Predicting Bitcoin Prices"
   ]
  },
  {
   "cell_type": "code",
   "execution_count": 12,
   "metadata": {},
   "outputs": [
    {
     "data": {
      "text/html": [
       "<div>\n",
       "<style scoped>\n",
       "    .dataframe tbody tr th:only-of-type {\n",
       "        vertical-align: middle;\n",
       "    }\n",
       "\n",
       "    .dataframe tbody tr th {\n",
       "        vertical-align: top;\n",
       "    }\n",
       "\n",
       "    .dataframe thead th {\n",
       "        text-align: right;\n",
       "    }\n",
       "</style>\n",
       "<table border=\"1\" class=\"dataframe\">\n",
       "  <thead>\n",
       "    <tr style=\"text-align: right;\">\n",
       "      <th></th>\n",
       "      <th>Date</th>\n",
       "      <th>Open</th>\n",
       "      <th>High</th>\n",
       "      <th>Low</th>\n",
       "      <th>Close</th>\n",
       "      <th>Adj Close</th>\n",
       "      <th>Volume</th>\n",
       "    </tr>\n",
       "  </thead>\n",
       "  <tbody>\n",
       "    <tr>\n",
       "      <th>0</th>\n",
       "      <td>2020-10-01</td>\n",
       "      <td>10795.254883</td>\n",
       "      <td>10933.624023</td>\n",
       "      <td>10472.356445</td>\n",
       "      <td>10619.452148</td>\n",
       "      <td>10619.452148</td>\n",
       "      <td>40023134100</td>\n",
       "    </tr>\n",
       "    <tr>\n",
       "      <th>1</th>\n",
       "      <td>2020-10-02</td>\n",
       "      <td>10619.821289</td>\n",
       "      <td>10657.837891</td>\n",
       "      <td>10416.689453</td>\n",
       "      <td>10575.974609</td>\n",
       "      <td>10575.974609</td>\n",
       "      <td>48661453918</td>\n",
       "    </tr>\n",
       "    <tr>\n",
       "      <th>2</th>\n",
       "      <td>2020-10-03</td>\n",
       "      <td>10575.100586</td>\n",
       "      <td>10598.940430</td>\n",
       "      <td>10511.129883</td>\n",
       "      <td>10549.329102</td>\n",
       "      <td>10549.329102</td>\n",
       "      <td>44660271563</td>\n",
       "    </tr>\n",
       "    <tr>\n",
       "      <th>3</th>\n",
       "      <td>2020-10-04</td>\n",
       "      <td>10550.440430</td>\n",
       "      <td>10686.000000</td>\n",
       "      <td>10534.391602</td>\n",
       "      <td>10669.583008</td>\n",
       "      <td>10669.583008</td>\n",
       "      <td>71251776995</td>\n",
       "    </tr>\n",
       "    <tr>\n",
       "      <th>4</th>\n",
       "      <td>2020-10-05</td>\n",
       "      <td>10676.529297</td>\n",
       "      <td>10793.507813</td>\n",
       "      <td>10634.600586</td>\n",
       "      <td>10793.339844</td>\n",
       "      <td>10793.339844</td>\n",
       "      <td>47537578009</td>\n",
       "    </tr>\n",
       "  </tbody>\n",
       "</table>\n",
       "</div>"
      ],
      "text/plain": [
       "         Date          Open          High           Low         Close  \\\n",
       "0  2020-10-01  10795.254883  10933.624023  10472.356445  10619.452148   \n",
       "1  2020-10-02  10619.821289  10657.837891  10416.689453  10575.974609   \n",
       "2  2020-10-03  10575.100586  10598.940430  10511.129883  10549.329102   \n",
       "3  2020-10-04  10550.440430  10686.000000  10534.391602  10669.583008   \n",
       "4  2020-10-05  10676.529297  10793.507813  10634.600586  10793.339844   \n",
       "\n",
       "      Adj Close       Volume  \n",
       "0  10619.452148  40023134100  \n",
       "1  10575.974609  48661453918  \n",
       "2  10549.329102  44660271563  \n",
       "3  10669.583008  71251776995  \n",
       "4  10793.339844  47537578009  "
      ]
     },
     "execution_count": 12,
     "metadata": {},
     "output_type": "execute_result"
    }
   ],
   "source": [
    "# Loading Bitcoin prices into a dataframe\n",
    "\n",
    "data = pd.read_csv('BTC-USD.csv')\n",
    "data.head(5)"
   ]
  },
  {
   "cell_type": "code",
   "execution_count": 16,
   "metadata": {},
   "outputs": [
    {
     "data": {
      "text/html": [
       "<div>\n",
       "<style scoped>\n",
       "    .dataframe tbody tr th:only-of-type {\n",
       "        vertical-align: middle;\n",
       "    }\n",
       "\n",
       "    .dataframe tbody tr th {\n",
       "        vertical-align: top;\n",
       "    }\n",
       "\n",
       "    .dataframe thead th {\n",
       "        text-align: right;\n",
       "    }\n",
       "</style>\n",
       "<table border=\"1\" class=\"dataframe\">\n",
       "  <thead>\n",
       "    <tr style=\"text-align: right;\">\n",
       "      <th></th>\n",
       "      <th>Date</th>\n",
       "      <th>Close</th>\n",
       "    </tr>\n",
       "  </thead>\n",
       "  <tbody>\n",
       "    <tr>\n",
       "      <th>0</th>\n",
       "      <td>2020-10-01</td>\n",
       "      <td>10619.452148</td>\n",
       "    </tr>\n",
       "    <tr>\n",
       "      <th>1</th>\n",
       "      <td>2020-10-02</td>\n",
       "      <td>10575.974609</td>\n",
       "    </tr>\n",
       "    <tr>\n",
       "      <th>2</th>\n",
       "      <td>2020-10-03</td>\n",
       "      <td>10549.329102</td>\n",
       "    </tr>\n",
       "    <tr>\n",
       "      <th>3</th>\n",
       "      <td>2020-10-04</td>\n",
       "      <td>10669.583008</td>\n",
       "    </tr>\n",
       "    <tr>\n",
       "      <th>4</th>\n",
       "      <td>2020-10-05</td>\n",
       "      <td>10793.339844</td>\n",
       "    </tr>\n",
       "  </tbody>\n",
       "</table>\n",
       "</div>"
      ],
      "text/plain": [
       "         Date         Close\n",
       "0  2020-10-01  10619.452148\n",
       "1  2020-10-02  10575.974609\n",
       "2  2020-10-03  10549.329102\n",
       "3  2020-10-04  10669.583008\n",
       "4  2020-10-05  10793.339844"
      ]
     },
     "execution_count": 16,
     "metadata": {},
     "output_type": "execute_result"
    }
   ],
   "source": [
    "# Close data of Bitcoin is what we will focus on\n",
    "close_data = data[['Date', 'Close']]\n",
    "close_data.head(5)"
   ]
  },
  {
   "cell_type": "code",
   "execution_count": 20,
   "metadata": {},
   "outputs": [
    {
     "name": "stdout",
     "output_type": "stream",
     "text": [
      "(731, 1)\n"
     ]
    }
   ],
   "source": [
    "# Deleting date column and normalizing using MinMax Scaler\n",
    "from sklearn.preprocessing import MinMaxScaler\n",
    "close_data = data[['Close']]\n",
    "scaler=MinMaxScaler(feature_range=(0,1))\n",
    "close_data=scaler.fit_transform(np.array(close_data).reshape(-1,1))\n",
    "print(close_data.shape)"
   ]
  },
  {
   "cell_type": "code",
   "execution_count": 21,
   "metadata": {},
   "outputs": [
    {
     "name": "stdout",
     "output_type": "stream",
     "text": [
      "train_data:  (438, 1)\n",
      "test_data:  (293, 1)\n"
     ]
    }
   ],
   "source": [
    "# Training set is 60% and 40% testing set\n",
    "\n",
    "training_size=int(len(close_data)*0.60)\n",
    "test_size=len(close_data)-training_size\n",
    "train_data,test_data=close_data[0:training_size,:],close_data[training_size:len(close_data),:1]\n",
    "print(\"train_data: \", train_data.shape)\n",
    "print(\"test_data: \", test_data.shape)"
   ]
  },
  {
   "cell_type": "markdown",
   "metadata": {},
   "source": [
    "#### Time-series analysis"
   ]
  },
  {
   "cell_type": "code",
   "execution_count": 23,
   "metadata": {},
   "outputs": [],
   "source": [
    "def create_dataset(dataset, time_step=1):\n",
    "    dataX, dataY = [], []\n",
    "    for i in range(len(dataset)-time_step-1):\n",
    "        a = dataset[i:(i+time_step), 0]   ###i=0, 0,1,2,3-----99   100 \n",
    "        dataX.append(a)\n",
    "        dataY.append(dataset[i + time_step, 0])\n",
    "    return np.array(dataX), np.array(dataY)"
   ]
  },
  {
   "cell_type": "code",
   "execution_count": 24,
   "metadata": {},
   "outputs": [
    {
     "name": "stdout",
     "output_type": "stream",
     "text": [
      "X_train:  (422, 15)\n",
      "y_train:  (422,)\n",
      "X_test:  (277, 15)\n",
      "y_test (277,)\n"
     ]
    }
   ],
   "source": [
    "time_step = 15\n",
    "X_train, y_train = create_dataset(train_data, time_step)\n",
    "X_test, y_test = create_dataset(test_data, time_step)\n",
    "\n",
    "print(\"X_train: \", X_train.shape)\n",
    "print(\"y_train: \", y_train.shape)\n",
    "print(\"X_test: \", X_test.shape)\n",
    "print(\"y_test\", y_test.shape)"
   ]
  },
  {
   "cell_type": "code",
   "execution_count": 26,
   "metadata": {},
   "outputs": [
    {
     "name": "stdout",
     "output_type": "stream",
     "text": [
      "X_train:  (422, 15, 1)\n",
      "X_test:  (277, 15, 1)\n"
     ]
    }
   ],
   "source": [
    "# reshape input to be [samples, time steps, features] for LSTM\n",
    "X_train =X_train.reshape(X_train.shape[0],X_train.shape[1] , 1)\n",
    "X_test = X_test.reshape(X_test.shape[0],X_test.shape[1] , 1)\n",
    "\n",
    "print(\"X_train: \", X_train.shape)\n",
    "print(\"X_test: \", X_test.shape)"
   ]
  },
  {
   "cell_type": "code",
   "execution_count": 27,
   "metadata": {},
   "outputs": [],
   "source": [
    "model=Sequential()\n",
    "\n",
    "model.add(LSTM(10,input_shape=(None,1),activation=\"relu\"))\n",
    "\n",
    "model.add(Dense(1))\n",
    "\n",
    "model.compile(loss=\"mean_squared_error\",optimizer=\"adam\")"
   ]
  },
  {
   "cell_type": "code",
   "execution_count": 28,
   "metadata": {},
   "outputs": [
    {
     "name": "stdout",
     "output_type": "stream",
     "text": [
      "Epoch 1/200\n",
      "14/14 [==============================] - 6s 118ms/step - loss: 0.1930 - val_loss: 0.0492\n",
      "Epoch 2/200\n",
      "14/14 [==============================] - 0s 26ms/step - loss: 0.0544 - val_loss: 0.0077\n",
      "Epoch 3/200\n",
      "14/14 [==============================] - 0s 33ms/step - loss: 0.0083 - val_loss: 0.0019\n",
      "Epoch 4/200\n",
      "14/14 [==============================] - 0s 26ms/step - loss: 0.0074 - val_loss: 0.0018\n",
      "Epoch 5/200\n",
      "14/14 [==============================] - 1s 40ms/step - loss: 0.0052 - val_loss: 0.0020\n",
      "Epoch 6/200\n",
      "14/14 [==============================] - 0s 27ms/step - loss: 0.0049 - val_loss: 0.0019\n",
      "Epoch 7/200\n",
      "14/14 [==============================] - 1s 38ms/step - loss: 0.0046 - val_loss: 0.0019\n",
      "Epoch 8/200\n",
      "14/14 [==============================] - 0s 27ms/step - loss: 0.0043 - val_loss: 0.0020\n",
      "Epoch 9/200\n",
      "14/14 [==============================] - 1s 40ms/step - loss: 0.0042 - val_loss: 0.0020\n",
      "Epoch 10/200\n",
      "14/14 [==============================] - 0s 26ms/step - loss: 0.0041 - val_loss: 0.0021\n",
      "Epoch 11/200\n",
      "14/14 [==============================] - 1s 38ms/step - loss: 0.0040 - val_loss: 0.0021\n",
      "Epoch 12/200\n",
      "14/14 [==============================] - 1s 42ms/step - loss: 0.0039 - val_loss: 0.0022\n",
      "Epoch 13/200\n",
      "14/14 [==============================] - 1s 44ms/step - loss: 0.0038 - val_loss: 0.0022\n",
      "Epoch 14/200\n",
      "14/14 [==============================] - 1s 46ms/step - loss: 0.0038 - val_loss: 0.0022\n",
      "Epoch 15/200\n",
      "14/14 [==============================] - 1s 57ms/step - loss: 0.0037 - val_loss: 0.0022\n",
      "Epoch 16/200\n",
      "14/14 [==============================] - 1s 48ms/step - loss: 0.0037 - val_loss: 0.0022\n",
      "Epoch 17/200\n",
      "14/14 [==============================] - 1s 47ms/step - loss: 0.0036 - val_loss: 0.0023\n",
      "Epoch 18/200\n",
      "14/14 [==============================] - 1s 43ms/step - loss: 0.0036 - val_loss: 0.0022\n",
      "Epoch 19/200\n",
      "14/14 [==============================] - 0s 35ms/step - loss: 0.0035 - val_loss: 0.0022\n",
      "Epoch 20/200\n",
      "14/14 [==============================] - 0s 36ms/step - loss: 0.0035 - val_loss: 0.0022\n",
      "Epoch 21/200\n",
      "14/14 [==============================] - 1s 37ms/step - loss: 0.0034 - val_loss: 0.0022\n",
      "Epoch 22/200\n",
      "14/14 [==============================] - 0s 32ms/step - loss: 0.0034 - val_loss: 0.0021\n",
      "Epoch 23/200\n",
      "14/14 [==============================] - 0s 33ms/step - loss: 0.0034 - val_loss: 0.0021\n",
      "Epoch 24/200\n",
      "14/14 [==============================] - 0s 33ms/step - loss: 0.0033 - val_loss: 0.0021\n",
      "Epoch 25/200\n",
      "14/14 [==============================] - 0s 36ms/step - loss: 0.0032 - val_loss: 0.0021\n",
      "Epoch 26/200\n",
      "14/14 [==============================] - 0s 32ms/step - loss: 0.0031 - val_loss: 0.0021\n",
      "Epoch 27/200\n",
      "14/14 [==============================] - 0s 33ms/step - loss: 0.0031 - val_loss: 0.0021\n",
      "Epoch 28/200\n",
      "14/14 [==============================] - 0s 35ms/step - loss: 0.0030 - val_loss: 0.0020\n",
      "Epoch 29/200\n",
      "14/14 [==============================] - 0s 31ms/step - loss: 0.0030 - val_loss: 0.0020\n",
      "Epoch 30/200\n",
      "14/14 [==============================] - 0s 31ms/step - loss: 0.0029 - val_loss: 0.0020\n",
      "Epoch 31/200\n",
      "14/14 [==============================] - 0s 32ms/step - loss: 0.0029 - val_loss: 0.0019\n",
      "Epoch 32/200\n",
      "14/14 [==============================] - 0s 32ms/step - loss: 0.0029 - val_loss: 0.0020\n",
      "Epoch 33/200\n",
      "14/14 [==============================] - 0s 35ms/step - loss: 0.0028 - val_loss: 0.0018\n",
      "Epoch 34/200\n",
      "14/14 [==============================] - 0s 34ms/step - loss: 0.0027 - val_loss: 0.0018\n",
      "Epoch 35/200\n",
      "14/14 [==============================] - 0s 34ms/step - loss: 0.0026 - val_loss: 0.0018\n",
      "Epoch 36/200\n",
      "14/14 [==============================] - 0s 33ms/step - loss: 0.0026 - val_loss: 0.0018\n",
      "Epoch 37/200\n",
      "14/14 [==============================] - 0s 36ms/step - loss: 0.0025 - val_loss: 0.0018\n",
      "Epoch 38/200\n",
      "14/14 [==============================] - 0s 36ms/step - loss: 0.0025 - val_loss: 0.0018\n",
      "Epoch 39/200\n",
      "14/14 [==============================] - 1s 40ms/step - loss: 0.0024 - val_loss: 0.0017\n",
      "Epoch 40/200\n",
      "14/14 [==============================] - 0s 34ms/step - loss: 0.0025 - val_loss: 0.0016\n",
      "Epoch 41/200\n",
      "14/14 [==============================] - 0s 35ms/step - loss: 0.0025 - val_loss: 0.0017\n",
      "Epoch 42/200\n",
      "14/14 [==============================] - 1s 40ms/step - loss: 0.0023 - val_loss: 0.0016\n",
      "Epoch 43/200\n",
      "14/14 [==============================] - 1s 38ms/step - loss: 0.0023 - val_loss: 0.0015\n",
      "Epoch 44/200\n",
      "14/14 [==============================] - 1s 45ms/step - loss: 0.0022 - val_loss: 0.0015\n",
      "Epoch 45/200\n",
      "14/14 [==============================] - 0s 18ms/step - loss: 0.0023 - val_loss: 0.0020\n",
      "Epoch 46/200\n",
      "14/14 [==============================] - 0s 18ms/step - loss: 0.0021 - val_loss: 0.0015\n",
      "Epoch 47/200\n",
      "14/14 [==============================] - 0s 18ms/step - loss: 0.0021 - val_loss: 0.0016\n",
      "Epoch 48/200\n",
      "14/14 [==============================] - 0s 18ms/step - loss: 0.0020 - val_loss: 0.0016\n",
      "Epoch 49/200\n",
      "14/14 [==============================] - 0s 20ms/step - loss: 0.0021 - val_loss: 0.0014\n",
      "Epoch 50/200\n",
      "14/14 [==============================] - 0s 19ms/step - loss: 0.0020 - val_loss: 0.0013\n",
      "Epoch 51/200\n",
      "14/14 [==============================] - 0s 18ms/step - loss: 0.0020 - val_loss: 0.0016\n",
      "Epoch 52/200\n",
      "14/14 [==============================] - 0s 18ms/step - loss: 0.0019 - val_loss: 0.0017\n",
      "Epoch 53/200\n",
      "14/14 [==============================] - 0s 18ms/step - loss: 0.0020 - val_loss: 0.0012\n",
      "Epoch 54/200\n",
      "14/14 [==============================] - 0s 31ms/step - loss: 0.0020 - val_loss: 0.0012\n",
      "Epoch 55/200\n",
      "14/14 [==============================] - 0s 20ms/step - loss: 0.0020 - val_loss: 0.0013\n",
      "Epoch 56/200\n",
      "14/14 [==============================] - 0s 20ms/step - loss: 0.0019 - val_loss: 0.0017\n",
      "Epoch 57/200\n",
      "14/14 [==============================] - 0s 25ms/step - loss: 0.0019 - val_loss: 0.0013\n",
      "Epoch 58/200\n",
      "14/14 [==============================] - 0s 22ms/step - loss: 0.0018 - val_loss: 0.0012\n",
      "Epoch 59/200\n",
      "14/14 [==============================] - 0s 21ms/step - loss: 0.0018 - val_loss: 0.0014\n",
      "Epoch 60/200\n",
      "14/14 [==============================] - 0s 22ms/step - loss: 0.0018 - val_loss: 0.0012\n",
      "Epoch 61/200\n",
      "14/14 [==============================] - 0s 21ms/step - loss: 0.0018 - val_loss: 0.0013\n",
      "Epoch 62/200\n",
      "14/14 [==============================] - 0s 22ms/step - loss: 0.0018 - val_loss: 0.0015\n",
      "Epoch 63/200\n",
      "14/14 [==============================] - 0s 23ms/step - loss: 0.0018 - val_loss: 0.0013\n",
      "Epoch 64/200\n",
      "14/14 [==============================] - 0s 21ms/step - loss: 0.0018 - val_loss: 0.0017\n",
      "Epoch 65/200\n",
      "14/14 [==============================] - 0s 20ms/step - loss: 0.0019 - val_loss: 0.0017\n",
      "Epoch 66/200\n",
      "14/14 [==============================] - 0s 26ms/step - loss: 0.0018 - val_loss: 0.0012\n",
      "Epoch 67/200\n",
      "14/14 [==============================] - 0s 28ms/step - loss: 0.0017 - val_loss: 0.0012\n",
      "Epoch 68/200\n",
      "14/14 [==============================] - 0s 25ms/step - loss: 0.0018 - val_loss: 0.0012\n",
      "Epoch 69/200\n",
      "14/14 [==============================] - 0s 25ms/step - loss: 0.0018 - val_loss: 0.0011\n",
      "Epoch 70/200\n",
      "14/14 [==============================] - 0s 24ms/step - loss: 0.0017 - val_loss: 0.0013\n",
      "Epoch 71/200\n",
      "14/14 [==============================] - 0s 24ms/step - loss: 0.0017 - val_loss: 0.0012\n",
      "Epoch 72/200\n",
      "14/14 [==============================] - 0s 24ms/step - loss: 0.0018 - val_loss: 0.0013\n",
      "Epoch 73/200\n",
      "14/14 [==============================] - 0s 22ms/step - loss: 0.0017 - val_loss: 0.0016\n",
      "Epoch 74/200\n",
      "14/14 [==============================] - 0s 23ms/step - loss: 0.0018 - val_loss: 0.0015\n",
      "Epoch 75/200\n",
      "14/14 [==============================] - 0s 24ms/step - loss: 0.0018 - val_loss: 0.0012\n",
      "Epoch 76/200\n",
      "14/14 [==============================] - 0s 27ms/step - loss: 0.0017 - val_loss: 0.0012\n",
      "Epoch 77/200\n",
      "14/14 [==============================] - 0s 34ms/step - loss: 0.0018 - val_loss: 9.5308e-04\n",
      "Epoch 78/200\n",
      "14/14 [==============================] - 0s 31ms/step - loss: 0.0018 - val_loss: 0.0012\n",
      "Epoch 79/200\n",
      "14/14 [==============================] - 0s 22ms/step - loss: 0.0017 - val_loss: 0.0013\n",
      "Epoch 80/200\n",
      "14/14 [==============================] - 0s 28ms/step - loss: 0.0017 - val_loss: 0.0016\n",
      "Epoch 81/200\n",
      "14/14 [==============================] - 1s 37ms/step - loss: 0.0017 - val_loss: 0.0012\n",
      "Epoch 82/200\n",
      "14/14 [==============================] - 0s 29ms/step - loss: 0.0016 - val_loss: 0.0013\n",
      "Epoch 83/200\n",
      "14/14 [==============================] - 0s 24ms/step - loss: 0.0017 - val_loss: 0.0014\n",
      "Epoch 84/200\n",
      "14/14 [==============================] - 0s 26ms/step - loss: 0.0017 - val_loss: 0.0013\n",
      "Epoch 85/200\n",
      "14/14 [==============================] - 0s 27ms/step - loss: 0.0016 - val_loss: 0.0015\n",
      "Epoch 86/200\n",
      "14/14 [==============================] - 0s 22ms/step - loss: 0.0017 - val_loss: 0.0013\n",
      "Epoch 87/200\n",
      "14/14 [==============================] - 0s 27ms/step - loss: 0.0016 - val_loss: 0.0013\n",
      "Epoch 88/200\n",
      "14/14 [==============================] - 0s 27ms/step - loss: 0.0018 - val_loss: 0.0012\n",
      "Epoch 89/200\n",
      "14/14 [==============================] - 0s 24ms/step - loss: 0.0016 - val_loss: 0.0011\n",
      "Epoch 90/200\n",
      "14/14 [==============================] - 0s 27ms/step - loss: 0.0017 - val_loss: 9.1887e-04\n",
      "Epoch 91/200\n",
      "14/14 [==============================] - 0s 22ms/step - loss: 0.0018 - val_loss: 0.0014\n",
      "Epoch 92/200\n",
      "14/14 [==============================] - 0s 23ms/step - loss: 0.0016 - val_loss: 0.0011\n",
      "Epoch 93/200\n",
      "14/14 [==============================] - 0s 23ms/step - loss: 0.0016 - val_loss: 0.0012\n",
      "Epoch 94/200\n",
      "14/14 [==============================] - 0s 27ms/step - loss: 0.0016 - val_loss: 0.0013\n",
      "Epoch 95/200\n",
      "14/14 [==============================] - 0s 27ms/step - loss: 0.0016 - val_loss: 0.0013\n",
      "Epoch 96/200\n",
      "14/14 [==============================] - 0s 21ms/step - loss: 0.0016 - val_loss: 0.0012\n",
      "Epoch 97/200\n",
      "14/14 [==============================] - 0s 24ms/step - loss: 0.0016 - val_loss: 0.0012\n",
      "Epoch 98/200\n",
      "14/14 [==============================] - 0s 23ms/step - loss: 0.0016 - val_loss: 0.0010\n",
      "Epoch 99/200\n",
      "14/14 [==============================] - 0s 23ms/step - loss: 0.0016 - val_loss: 0.0012\n",
      "Epoch 100/200\n",
      "14/14 [==============================] - 0s 23ms/step - loss: 0.0016 - val_loss: 0.0011\n",
      "Epoch 101/200\n",
      "14/14 [==============================] - 0s 22ms/step - loss: 0.0016 - val_loss: 0.0011\n",
      "Epoch 102/200\n",
      "14/14 [==============================] - 0s 22ms/step - loss: 0.0015 - val_loss: 0.0010\n",
      "Epoch 103/200\n",
      "14/14 [==============================] - 0s 22ms/step - loss: 0.0015 - val_loss: 0.0013\n",
      "Epoch 104/200\n",
      "14/14 [==============================] - 0s 22ms/step - loss: 0.0016 - val_loss: 0.0011\n",
      "Epoch 105/200\n",
      "14/14 [==============================] - 0s 23ms/step - loss: 0.0017 - val_loss: 9.8315e-04\n",
      "Epoch 106/200\n",
      "14/14 [==============================] - 0s 25ms/step - loss: 0.0016 - val_loss: 0.0015\n",
      "Epoch 107/200\n",
      "14/14 [==============================] - 0s 28ms/step - loss: 0.0016 - val_loss: 0.0012\n",
      "Epoch 108/200\n",
      "14/14 [==============================] - 0s 22ms/step - loss: 0.0015 - val_loss: 0.0011\n",
      "Epoch 109/200\n",
      "14/14 [==============================] - 0s 24ms/step - loss: 0.0015 - val_loss: 0.0013\n",
      "Epoch 110/200\n",
      "14/14 [==============================] - 0s 24ms/step - loss: 0.0015 - val_loss: 0.0010\n",
      "Epoch 111/200\n",
      "14/14 [==============================] - 0s 23ms/step - loss: 0.0015 - val_loss: 0.0013\n",
      "Epoch 112/200\n",
      "14/14 [==============================] - 0s 22ms/step - loss: 0.0015 - val_loss: 0.0012\n",
      "Epoch 113/200\n",
      "14/14 [==============================] - 0s 23ms/step - loss: 0.0015 - val_loss: 0.0012\n",
      "Epoch 114/200\n",
      "14/14 [==============================] - 0s 25ms/step - loss: 0.0015 - val_loss: 0.0012\n",
      "Epoch 115/200\n",
      "14/14 [==============================] - 0s 26ms/step - loss: 0.0015 - val_loss: 0.0010\n",
      "Epoch 116/200\n",
      "14/14 [==============================] - 0s 26ms/step - loss: 0.0015 - val_loss: 9.7397e-04\n",
      "Epoch 117/200\n",
      "14/14 [==============================] - 0s 23ms/step - loss: 0.0015 - val_loss: 0.0010\n",
      "Epoch 118/200\n",
      "14/14 [==============================] - 0s 26ms/step - loss: 0.0015 - val_loss: 8.9484e-04\n",
      "Epoch 119/200\n",
      "14/14 [==============================] - 0s 23ms/step - loss: 0.0015 - val_loss: 0.0012\n",
      "Epoch 120/200\n",
      "14/14 [==============================] - 0s 25ms/step - loss: 0.0014 - val_loss: 0.0010\n",
      "Epoch 121/200\n",
      "14/14 [==============================] - 0s 27ms/step - loss: 0.0014 - val_loss: 0.0011\n",
      "Epoch 122/200\n",
      "14/14 [==============================] - 0s 28ms/step - loss: 0.0015 - val_loss: 0.0010\n",
      "Epoch 123/200\n",
      "14/14 [==============================] - 0s 25ms/step - loss: 0.0015 - val_loss: 9.8253e-04\n",
      "Epoch 124/200\n",
      "14/14 [==============================] - 0s 29ms/step - loss: 0.0015 - val_loss: 0.0010\n",
      "Epoch 125/200\n",
      "14/14 [==============================] - 0s 24ms/step - loss: 0.0015 - val_loss: 8.6072e-04\n",
      "Epoch 126/200\n",
      "14/14 [==============================] - 0s 29ms/step - loss: 0.0015 - val_loss: 9.6665e-04\n",
      "Epoch 127/200\n",
      "14/14 [==============================] - 0s 21ms/step - loss: 0.0015 - val_loss: 9.8824e-04\n",
      "Epoch 128/200\n",
      "14/14 [==============================] - 0s 22ms/step - loss: 0.0015 - val_loss: 0.0010\n",
      "Epoch 129/200\n",
      "14/14 [==============================] - 0s 22ms/step - loss: 0.0014 - val_loss: 0.0012\n",
      "Epoch 130/200\n",
      "14/14 [==============================] - 0s 22ms/step - loss: 0.0014 - val_loss: 0.0011\n",
      "Epoch 131/200\n",
      "14/14 [==============================] - 0s 23ms/step - loss: 0.0015 - val_loss: 9.2519e-04\n",
      "Epoch 132/200\n",
      "14/14 [==============================] - 0s 21ms/step - loss: 0.0015 - val_loss: 8.3010e-04\n",
      "Epoch 133/200\n",
      "14/14 [==============================] - 0s 22ms/step - loss: 0.0014 - val_loss: 0.0012\n",
      "Epoch 134/200\n",
      "14/14 [==============================] - 0s 24ms/step - loss: 0.0015 - val_loss: 0.0011\n",
      "Epoch 135/200\n",
      "14/14 [==============================] - 0s 24ms/step - loss: 0.0014 - val_loss: 8.6081e-04\n",
      "Epoch 136/200\n",
      "14/14 [==============================] - 0s 23ms/step - loss: 0.0015 - val_loss: 0.0010\n",
      "Epoch 137/200\n",
      "14/14 [==============================] - 0s 22ms/step - loss: 0.0015 - val_loss: 0.0012\n",
      "Epoch 138/200\n",
      "14/14 [==============================] - 0s 23ms/step - loss: 0.0015 - val_loss: 0.0011\n",
      "Epoch 139/200\n",
      "14/14 [==============================] - 0s 23ms/step - loss: 0.0014 - val_loss: 0.0013\n",
      "Epoch 140/200\n",
      "14/14 [==============================] - 0s 24ms/step - loss: 0.0014 - val_loss: 0.0011\n",
      "Epoch 141/200\n",
      "14/14 [==============================] - 0s 22ms/step - loss: 0.0014 - val_loss: 0.0010\n",
      "Epoch 142/200\n",
      "14/14 [==============================] - 0s 22ms/step - loss: 0.0014 - val_loss: 9.2343e-04\n",
      "Epoch 143/200\n",
      "14/14 [==============================] - 0s 23ms/step - loss: 0.0014 - val_loss: 0.0011\n",
      "Epoch 144/200\n",
      "14/14 [==============================] - 0s 22ms/step - loss: 0.0014 - val_loss: 0.0011\n",
      "Epoch 145/200\n",
      "14/14 [==============================] - 0s 23ms/step - loss: 0.0014 - val_loss: 0.0012\n",
      "Epoch 146/200\n",
      "14/14 [==============================] - 0s 23ms/step - loss: 0.0014 - val_loss: 9.4338e-04\n",
      "Epoch 147/200\n",
      "14/14 [==============================] - 0s 26ms/step - loss: 0.0014 - val_loss: 0.0013\n",
      "Epoch 148/200\n",
      "14/14 [==============================] - 0s 24ms/step - loss: 0.0014 - val_loss: 9.3675e-04\n",
      "Epoch 149/200\n",
      "14/14 [==============================] - 0s 24ms/step - loss: 0.0014 - val_loss: 0.0011\n",
      "Epoch 150/200\n",
      "14/14 [==============================] - 0s 22ms/step - loss: 0.0014 - val_loss: 0.0011\n",
      "Epoch 151/200\n",
      "14/14 [==============================] - 0s 21ms/step - loss: 0.0014 - val_loss: 0.0012\n",
      "Epoch 152/200\n",
      "14/14 [==============================] - 0s 23ms/step - loss: 0.0014 - val_loss: 9.6834e-04\n",
      "Epoch 153/200\n",
      "14/14 [==============================] - 0s 22ms/step - loss: 0.0013 - val_loss: 0.0013\n",
      "Epoch 154/200\n",
      "14/14 [==============================] - 0s 31ms/step - loss: 0.0015 - val_loss: 0.0011\n",
      "Epoch 155/200\n",
      "14/14 [==============================] - 0s 34ms/step - loss: 0.0015 - val_loss: 9.1373e-04\n",
      "Epoch 156/200\n",
      "14/14 [==============================] - 0s 28ms/step - loss: 0.0015 - val_loss: 7.8619e-04\n",
      "Epoch 157/200\n",
      "14/14 [==============================] - 0s 32ms/step - loss: 0.0013 - val_loss: 9.3465e-04\n",
      "Epoch 158/200\n",
      "14/14 [==============================] - 0s 22ms/step - loss: 0.0014 - val_loss: 0.0011\n",
      "Epoch 159/200\n",
      "14/14 [==============================] - 0s 26ms/step - loss: 0.0013 - val_loss: 8.3978e-04\n",
      "Epoch 160/200\n",
      "14/14 [==============================] - 1s 53ms/step - loss: 0.0014 - val_loss: 9.2976e-04\n",
      "Epoch 161/200\n",
      "14/14 [==============================] - 0s 22ms/step - loss: 0.0013 - val_loss: 0.0011\n",
      "Epoch 162/200\n",
      "14/14 [==============================] - 0s 28ms/step - loss: 0.0013 - val_loss: 8.7240e-04\n",
      "Epoch 163/200\n",
      "14/14 [==============================] - 0s 24ms/step - loss: 0.0013 - val_loss: 0.0013\n",
      "Epoch 164/200\n",
      "14/14 [==============================] - 0s 25ms/step - loss: 0.0014 - val_loss: 0.0010\n",
      "Epoch 165/200\n",
      "14/14 [==============================] - 0s 22ms/step - loss: 0.0014 - val_loss: 0.0010\n",
      "Epoch 166/200\n",
      "14/14 [==============================] - 0s 21ms/step - loss: 0.0013 - val_loss: 0.0011\n",
      "Epoch 167/200\n",
      "14/14 [==============================] - 0s 23ms/step - loss: 0.0013 - val_loss: 0.0010\n",
      "Epoch 168/200\n",
      "14/14 [==============================] - 0s 24ms/step - loss: 0.0013 - val_loss: 9.1097e-04\n",
      "Epoch 169/200\n",
      "14/14 [==============================] - 0s 22ms/step - loss: 0.0013 - val_loss: 8.0752e-04\n",
      "Epoch 170/200\n",
      "14/14 [==============================] - 0s 24ms/step - loss: 0.0013 - val_loss: 9.4046e-04\n",
      "Epoch 171/200\n",
      "14/14 [==============================] - 0s 23ms/step - loss: 0.0013 - val_loss: 0.0010\n",
      "Epoch 172/200\n",
      "14/14 [==============================] - 0s 25ms/step - loss: 0.0013 - val_loss: 0.0012\n",
      "Epoch 173/200\n",
      "14/14 [==============================] - 0s 24ms/step - loss: 0.0013 - val_loss: 0.0010\n",
      "Epoch 174/200\n",
      "14/14 [==============================] - 0s 23ms/step - loss: 0.0013 - val_loss: 8.9773e-04\n",
      "Epoch 175/200\n",
      "14/14 [==============================] - 0s 27ms/step - loss: 0.0013 - val_loss: 9.6370e-04\n",
      "Epoch 176/200\n",
      "14/14 [==============================] - 0s 24ms/step - loss: 0.0013 - val_loss: 9.0675e-04\n",
      "Epoch 177/200\n",
      "14/14 [==============================] - 0s 25ms/step - loss: 0.0013 - val_loss: 0.0010\n",
      "Epoch 178/200\n",
      "14/14 [==============================] - 0s 24ms/step - loss: 0.0013 - val_loss: 0.0010\n",
      "Epoch 179/200\n",
      "14/14 [==============================] - 0s 24ms/step - loss: 0.0013 - val_loss: 7.9030e-04\n",
      "Epoch 180/200\n",
      "14/14 [==============================] - 0s 26ms/step - loss: 0.0013 - val_loss: 8.7353e-04\n",
      "Epoch 181/200\n",
      "14/14 [==============================] - 0s 24ms/step - loss: 0.0013 - val_loss: 9.0587e-04\n",
      "Epoch 182/200\n",
      "14/14 [==============================] - 0s 23ms/step - loss: 0.0013 - val_loss: 9.0273e-04\n",
      "Epoch 183/200\n",
      "14/14 [==============================] - 0s 25ms/step - loss: 0.0013 - val_loss: 8.7059e-04\n",
      "Epoch 184/200\n",
      "14/14 [==============================] - 0s 29ms/step - loss: 0.0013 - val_loss: 9.2306e-04\n",
      "Epoch 185/200\n",
      "14/14 [==============================] - 0s 27ms/step - loss: 0.0013 - val_loss: 9.7613e-04\n",
      "Epoch 186/200\n",
      "14/14 [==============================] - 0s 23ms/step - loss: 0.0013 - val_loss: 0.0011\n",
      "Epoch 187/200\n",
      "14/14 [==============================] - 0s 32ms/step - loss: 0.0013 - val_loss: 0.0011\n",
      "Epoch 188/200\n",
      "14/14 [==============================] - 0s 31ms/step - loss: 0.0012 - val_loss: 9.9039e-04\n",
      "Epoch 189/200\n",
      "14/14 [==============================] - 0s 25ms/step - loss: 0.0012 - val_loss: 8.9383e-04\n",
      "Epoch 190/200\n",
      "14/14 [==============================] - 0s 23ms/step - loss: 0.0012 - val_loss: 0.0012\n",
      "Epoch 191/200\n",
      "14/14 [==============================] - 0s 23ms/step - loss: 0.0013 - val_loss: 0.0010\n",
      "Epoch 192/200\n",
      "14/14 [==============================] - 0s 21ms/step - loss: 0.0012 - val_loss: 8.0816e-04\n",
      "Epoch 193/200\n",
      "14/14 [==============================] - 0s 17ms/step - loss: 0.0013 - val_loss: 8.9941e-04\n",
      "Epoch 194/200\n",
      "14/14 [==============================] - 0s 18ms/step - loss: 0.0012 - val_loss: 8.0281e-04\n",
      "Epoch 195/200\n",
      "14/14 [==============================] - 0s 18ms/step - loss: 0.0013 - val_loss: 9.8133e-04\n",
      "Epoch 196/200\n",
      "14/14 [==============================] - 0s 18ms/step - loss: 0.0012 - val_loss: 0.0010\n",
      "Epoch 197/200\n",
      "14/14 [==============================] - 0s 19ms/step - loss: 0.0012 - val_loss: 9.7652e-04\n",
      "Epoch 198/200\n",
      "14/14 [==============================] - 0s 36ms/step - loss: 0.0012 - val_loss: 0.0010\n",
      "Epoch 199/200\n",
      "14/14 [==============================] - 0s 18ms/step - loss: 0.0012 - val_loss: 0.0012\n",
      "Epoch 200/200\n",
      "14/14 [==============================] - 0s 23ms/step - loss: 0.0013 - val_loss: 0.0011\n"
     ]
    }
   ],
   "source": [
    "history = model.fit(X_train,y_train,validation_data=(X_test,y_test),epochs=200,batch_size=32,verbose=1)"
   ]
  },
  {
   "cell_type": "markdown",
   "metadata": {},
   "source": [
    "#### Loss vs Validation Loss"
   ]
  },
  {
   "cell_type": "code",
   "execution_count": 29,
   "metadata": {},
   "outputs": [
    {
     "data": {
      "image/png": "[encoded data removed]",
      "text/plain": [
       "<Figure size 640x480 with 1 Axes>"
      ]
     },
     "metadata": {},
     "output_type": "display_data"
    },
    {
     "data": {
      "text/plain": [
       "<Figure size 640x480 with 0 Axes>"
      ]
     },
     "metadata": {},
     "output_type": "display_data"
    }
   ],
   "source": [
    "loss = history.history['loss']\n",
    "val_loss = history.history['val_loss']\n",
    "\n",
    "epochs = range(len(loss))\n",
    "\n",
    "plt.plot(epochs, loss, 'r', label='Training Loss')\n",
    "plt.plot(epochs, val_loss, 'g', label='Validation Loss')\n",
    "plt.title('Training and Validation Loss')\n",
    "plt.legend(loc=0)\n",
    "plt.figure()\n",
    "plt.show()"
   ]
  },
  {
   "cell_type": "code",
   "execution_count": 30,
   "metadata": {},
   "outputs": [
    {
     "name": "stdout",
     "output_type": "stream",
     "text": [
      "14/14 [==============================] - 1s 7ms/step\n",
      "9/9 [==============================] - 0s 5ms/step\n"
     ]
    },
    {
     "data": {
      "text/plain": [
       "((422, 1), (277, 1))"
      ]
     },
     "execution_count": 30,
     "metadata": {},
     "output_type": "execute_result"
    }
   ],
   "source": [
    "# Prediction\n",
    "train_predict=model.predict(X_train)\n",
    "test_predict=model.predict(X_test)\n",
    "train_predict.shape, test_predict.shape"
   ]
  },
  {
   "cell_type": "code",
   "execution_count": 33,
   "metadata": {},
   "outputs": [],
   "source": [
    "# Transformation to original form\n",
    "train_predict = scaler.inverse_transform(train_predict)\n",
    "test_predict = scaler.inverse_transform(test_predict)\n",
    "original_ytrain = scaler.inverse_transform(y_train.reshape(-1,1)) \n",
    "original_ytest = scaler.inverse_transform(y_test.reshape(-1,1)) "
   ]
  },
  {
   "cell_type": "code",
   "execution_count": 34,
   "metadata": {},
   "outputs": [
    {
     "name": "stdout",
     "output_type": "stream",
     "text": [
      "Train data RMSE:  2041.8327114614842\n",
      "Train data MSE:  4169080.821594157\n",
      "Train data MAE:  1515.902572839899\n",
      "-------------------------------------------------------------------------------------\n",
      "Test data RMSE:  1908.5690382937257\n",
      "Test data MSE:  3642635.773933437\n",
      "Test data MAE:  1532.5640300185019\n"
     ]
    }
   ],
   "source": [
    "# Evaluation metrices RMSE and MAE\n",
    "import math \n",
    "from sklearn.metrics import mean_squared_error\n",
    "print(\"Train data RMSE: \", math.sqrt(mean_squared_error(original_ytrain,train_predict)))\n",
    "print(\"Train data MSE: \", mean_squared_error(original_ytrain,train_predict))\n",
    "print(\"Train data MAE: \", mean_absolute_error(original_ytrain,train_predict))\n",
    "print(\"-------------------------------------------------------------------------------------\")\n",
    "print(\"Test data RMSE: \", math.sqrt(mean_squared_error(original_ytest,test_predict)))\n",
    "print(\"Test data MSE: \", mean_squared_error(original_ytest,test_predict))\n",
    "print(\"Test data MAE: \", mean_absolute_error(original_ytest,test_predict))"
   ]
  },
  {
   "cell_type": "code",
   "execution_count": 35,
   "metadata": {},
   "outputs": [
    {
     "name": "stdout",
     "output_type": "stream",
     "text": [
      "Output of predicted next days:  30\n"
     ]
    }
   ],
   "source": [
    "x_input=test_data[len(test_data)-time_step:].reshape(1,-1)\n",
    "temp_input=list(x_input)\n",
    "temp_input=temp_input[0].tolist()\n",
    "\n",
    "from numpy import array\n",
    "\n",
    "lst_output=[]\n",
    "n_steps=time_step\n",
    "i=0\n",
    "pred_days = 30\n",
    "while(i<pred_days):\n",
    "    \n",
    "    if(len(temp_input)>time_step):\n",
    "        \n",
    "        x_input=np.array(temp_input[1:])\n",
    "        #print(\"{} day input {}\".format(i,x_input))\n",
    "        x_input = x_input.reshape(1,-1)\n",
    "        x_input = x_input.reshape((1, n_steps, 1))\n",
    "        \n",
    "        yhat = model.predict(x_input, verbose=0)\n",
    "        #print(\"{} day output {}\".format(i,yhat))\n",
    "        temp_input.extend(yhat[0].tolist())\n",
    "        temp_input=temp_input[1:]\n",
    "         #print(temp_input)\n",
    "       \n",
    "        lst_output.extend(yhat.tolist())\n",
    "        i=i+1\n",
    "        \n",
    "    else:\n",
    "        \n",
    "        x_input = x_input.reshape((1, n_steps,1))\n",
    "        yhat = model.predict(x_input, verbose=0)\n",
    "        temp_input.extend(yhat[0].tolist())\n",
    "        \n",
    "        lst_output.extend(yhat.tolist())\n",
    "        i=i+1\n",
    "               \n",
    "print(\"Output of predicted next days: \", len(lst_output))"
   ]
  },
  {
   "cell_type": "code",
   "execution_count": 36,
   "metadata": {},
   "outputs": [
    {
     "name": "stdout",
     "output_type": "stream",
     "text": [
      "[ 1  2  3  4  5  6  7  8  9 10 11 12 13 14 15]\n",
      "[16 17 18 19 20 21 22 23 24 25 26 27 28 29 30 31 32 33 34 35 36 37 38 39\n",
      " 40 41 42 43 44 45]\n"
     ]
    }
   ],
   "source": [
    "last_days=np.arange(1,time_step+1)\n",
    "day_pred=np.arange(time_step+1,time_step+pred_days+1)\n",
    "print(last_days)\n",
    "print(day_pred)"
   ]
  },
  {
   "cell_type": "code",
   "execution_count": 42,
   "metadata": {},
   "outputs": [
    {
     "data": {
      "application/vnd.plotly.v1+json": {
       "config": {
        "plotlyServerURL": "https://plot.ly"
       },
       "data": [
        {
         "hovertemplate": "variable=last_original_days_value<br>Timestamp=%{x}<br>Stock price=%{y}<extra></extra>",
         "legendgroup": "last_original_days_value",
         "line": {
          "color": "#636efa",
          "dash": "solid"
         },
         "marker": {
          "symbol": "circle"
         },
         "mode": "lines",
         "name": "Last 15 days close price",
         "orientation": "v",
         "showlegend": true,
         "type": "scatter",
         "x": [
          0,
          1,
          2,
          3,
          4,
          5,
          6,
          7,
          8,
          9,
          10,
          11,
          12,
          13,
          14,
          15,
          16,
          17,
          18,
          19,
          20,
          21,
          22,
          23,
          24,
          25,
          26,
          27,
          28,
          29,
          30,
          31,
          32,
          33,
          34,
          35,
          36,
          37,
          38,
          39,
          40,
          41,
          42,
          43,
          44,
          45
         ],
         "xaxis": "x",
         "y": [
          20127.576172,
          19419.505859,
          19544.128906,
          18890.789063,
          18547.400391,
          19413.550781,
          19297.638672,
          18937.011719,
          18802.097656,
          19222.671875,
          19110.546875,
          19426.720703,
          19573.050781,
          19431.789063,
          19312.095703,
          null,
          20337.621135810645,
          20630.944642638333,
          20933.91481378606,
          21253.521530120568,
          21595.320502227438,
          21956.85206010434,
          22332.229988284536,
          22724.984486719575,
          23136.0628894518,
          23564.908690833017,
          24010.864279608715,
          24472.29837204678,
          24953.815946182665,
          25449.46111714025,
          25965.857576573497,
          26498.690918861725,
          27051.05378608041,
          27619.571460008734,
          28210.578759139753,
          28820.54633314888,
          29455.273735554565,
          30111.92661087226,
          30794.51519827675,
          31502.89506118759,
          32227.978589813774,
          32905.42353570043,
          33559.85378693311,
          34203.52266329547,
          34835.58903411314,
          35453.206649124346
         ],
         "yaxis": "y"
        },
        {
         "hovertemplate": "variable=next_predicted_days_value<br>Timestamp=%{x}<br>Stock price=%{y}<extra></extra>",
         "legendgroup": "next_predicted_days_value",
         "line": {
          "color": "#EF553B",
          "dash": "solid"
         },
         "marker": {
          "symbol": "circle"
         },
         "mode": "lines",
         "name": "Predicted next 30 days close price",
         "orientation": "v",
         "showlegend": true,
         "type": "scatter",
         "x": [
          0,
          1,
          2,
          3,
          4,
          5,
          6,
          7,
          8,
          9,
          10,
          11,
          12,
          13,
          14,
          15,
          16,
          17,
          18,
          19,
          20,
          21,
          22,
          23,
          24,
          25,
          26,
          27,
          28,
          29,
          30,
          31,
          32,
          33,
          34,
          35,
          36,
          37,
          38,
          39,
          40,
          41,
          42,
          43,
          44,
          45
         ],
         "xaxis": "x",
         "y": [
          20127.576172,
          19419.505859,
          19544.128906,
          18890.789063,
          18547.400391,
          19413.550781,
          19297.638672,
          18937.011719,
          18802.097656,
          19222.671875,
          19110.546875,
          19426.720703,
          19573.050781,
          19431.789063,
          19312.095703,
          null,
          20337.621135810645,
          20630.944642638333,
          20933.91481378606,
          21253.521530120568,
          21595.320502227438,
          21956.85206010434,
          22332.229988284536,
          22724.984486719575,
          23136.0628894518,
          23564.908690833017,
          24010.864279608715,
          24472.29837204678,
          24953.815946182665,
          25449.46111714025,
          25965.857576573497,
          26498.690918861725,
          27051.05378608041,
          27619.571460008734,
          28210.578759139753,
          28820.54633314888,
          29455.273735554565,
          30111.92661087226,
          30794.51519827675,
          31502.89506118759,
          32227.978589813774,
          32905.42353570043,
          33559.85378693311,
          34203.52266329547,
          34835.58903411314,
          35453.206649124346
         ],
         "yaxis": "y"
        }
       ],
       "layout": {
        "font": {
         "color": "black",
         "size": 15
        },
        "legend": {
         "title": {
          "text": "Close Price"
         },
         "tracegroupgap": 0
        },
        "margin": {
         "t": 60
        },
        "plot_bgcolor": "white",
        "template": {
         "data": {
          "bar": [
           {
            "error_x": {
             "color": "#2a3f5f"
            },
            "error_y": {
             "color": "#2a3f5f"
            },
            "marker": {
             "line": {
              "color": "#E5ECF6",
              "width": 0.5
             },
             "pattern": {
              "fillmode": "overlay",
              "size": 10,
              "solidity": 0.2
             }
            },
            "type": "bar"
           }
          ],
          "barpolar": [
           {
            "marker": {
             "line": {
              "color": "#E5ECF6",
              "width": 0.5
             },
             "pattern": {
              "fillmode": "overlay",
              "size": 10,
              "solidity": 0.2
             }
            },
            "type": "barpolar"
           }
          ],
          "carpet": [
           {
            "aaxis": {
             "endlinecolor": "#2a3f5f",
             "gridcolor": "white",
             "linecolor": "white",
             "minorgridcolor": "white",
             "startlinecolor": "#2a3f5f"
            },
            "baxis": {
             "endlinecolor": "#2a3f5f",
             "gridcolor": "white",
             "linecolor": "white",
             "minorgridcolor": "white",
             "startlinecolor": "#2a3f5f"
            },
            "type": "carpet"
           }
          ],
          "choropleth": [
           {
            "colorbar": {
             "outlinewidth": 0,
             "ticks": ""
            },
            "type": "choropleth"
           }
          ],
          "contour": [
           {
            "colorbar": {
             "outlinewidth": 0,
             "ticks": ""
            },
            "colorscale": [
             [
              0,
              "#0d0887"
             ],
             [
              0.1111111111111111,
              "#46039f"
             ],
             [
              0.2222222222222222,
              "#7201a8"
             ],
             [
              0.3333333333333333,
              "#9c179e"
             ],
             [
              0.4444444444444444,
              "#bd3786"
             ],
             [
              0.5555555555555556,
              "#d8576b"
             ],
             [
              0.6666666666666666,
              "#ed7953"
             ],
             [
              0.7777777777777778,
              "#fb9f3a"
             ],
             [
              0.8888888888888888,
              "#fdca26"
             ],
             [
              1,
              "#f0f921"
             ]
            ],
            "type": "contour"
           }
          ],
          "contourcarpet": [
           {
            "colorbar": {
             "outlinewidth": 0,
             "ticks": ""
            },
            "type": "contourcarpet"
           }
          ],
          "heatmap": [
           {
            "colorbar": {
             "outlinewidth": 0,
             "ticks": ""
            },
            "colorscale": [
             [
              0,
              "#0d0887"
             ],
             [
              0.1111111111111111,
              "#46039f"
             ],
             [
              0.2222222222222222,
              "#7201a8"
             ],
             [
              0.3333333333333333,
              "#9c179e"
             ],
             [
              0.4444444444444444,
              "#bd3786"
             ],
             [
              0.5555555555555556,
              "#d8576b"
             ],
             [
              0.6666666666666666,
              "#ed7953"
             ],
             [
              0.7777777777777778,
              "#fb9f3a"
             ],
             [
              0.8888888888888888,
              "#fdca26"
             ],
             [
              1,
              "#f0f921"
             ]
            ],
            "type": "heatmap"
           }
          ],
          "heatmapgl": [
           {
            "colorbar": {
             "outlinewidth": 0,
             "ticks": ""
            },
            "colorscale": [
             [
              0,
              "#0d0887"
             ],
             [
              0.1111111111111111,
              "#46039f"
             ],
             [
              0.2222222222222222,
              "#7201a8"
             ],
             [
              0.3333333333333333,
              "#9c179e"
             ],
             [
              0.4444444444444444,
              "#bd3786"
             ],
             [
              0.5555555555555556,
              "#d8576b"
             ],
             [
              0.6666666666666666,
              "#ed7953"
             ],
             [
              0.7777777777777778,
              "#fb9f3a"
             ],
             [
              0.8888888888888888,
              "#fdca26"
             ],
             [
              1,
              "#f0f921"
             ]
            ],
            "type": "heatmapgl"
           }
          ],
          "histogram": [
           {
            "marker": {
             "pattern": {
              "fillmode": "overlay",
              "size": 10,
              "solidity": 0.2
             }
            },
            "type": "histogram"
           }
          ],
          "histogram2d": [
           {
            "colorbar": {
             "outlinewidth": 0,
             "ticks": ""
            },
            "colorscale": [
             [
              0,
              "#0d0887"
             ],
             [
              0.1111111111111111,
              "#46039f"
             ],
             [
              0.2222222222222222,
              "#7201a8"
             ],
             [
              0.3333333333333333,
              "#9c179e"
             ],
             [
              0.4444444444444444,
              "#bd3786"
             ],
             [
              0.5555555555555556,
              "#d8576b"
             ],
             [
              0.6666666666666666,
              "#ed7953"
             ],
             [
              0.7777777777777778,
              "#fb9f3a"
             ],
             [
              0.8888888888888888,
              "#fdca26"
             ],
             [
              1,
              "#f0f921"
             ]
            ],
            "type": "histogram2d"
           }
          ],
          "histogram2dcontour": [
           {
            "colorbar": {
             "outlinewidth": 0,
             "ticks": ""
            },
            "colorscale": [
             [
              0,
              "#0d0887"
             ],
             [
              0.1111111111111111,
              "#46039f"
             ],
             [
              0.2222222222222222,
              "#7201a8"
             ],
             [
              0.3333333333333333,
              "#9c179e"
             ],
             [
              0.4444444444444444,
              "#bd3786"
             ],
             [
              0.5555555555555556,
              "#d8576b"
             ],
             [
              0.6666666666666666,
              "#ed7953"
             ],
             [
              0.7777777777777778,
              "#fb9f3a"
             ],
             [
              0.8888888888888888,
              "#fdca26"
             ],
             [
              1,
              "#f0f921"
             ]
            ],
            "type": "histogram2dcontour"
           }
          ],
          "mesh3d": [
           {
            "colorbar": {
             "outlinewidth": 0,
             "ticks": ""
            },
            "type": "mesh3d"
           }
          ],
          "parcoords": [
           {
            "line": {
             "colorbar": {
              "outlinewidth": 0,
              "ticks": ""
             }
            },
            "type": "parcoords"
           }
          ],
          "pie": [
           {
            "automargin": true,
            "type": "pie"
           }
          ],
          "scatter": [
           {
            "marker": {
             "colorbar": {
              "outlinewidth": 0,
              "ticks": ""
             }
            },
            "type": "scatter"
           }
          ],
          "scatter3d": [
           {
            "line": {
             "colorbar": {
              "outlinewidth": 0,
              "ticks": ""
             }
            },
            "marker": {
             "colorbar": {
              "outlinewidth": 0,
              "ticks": ""
             }
            },
            "type": "scatter3d"
           }
          ],
          "scattercarpet": [
           {
            "marker": {
             "colorbar": {
              "outlinewidth": 0,
              "ticks": ""
             }
            },
            "type": "scattercarpet"
           }
          ],
          "scattergeo": [
           {
            "marker": {
             "colorbar": {
              "outlinewidth": 0,
              "ticks": ""
             }
            },
            "type": "scattergeo"
           }
          ],
          "scattergl": [
           {
            "marker": {
             "colorbar": {
              "outlinewidth": 0,
              "ticks": ""
             }
            },
            "type": "scattergl"
           }
          ],
          "scattermapbox": [
           {
            "marker": {
             "colorbar": {
              "outlinewidth": 0,
              "ticks": ""
             }
            },
            "type": "scattermapbox"
           }
          ],
          "scatterpolar": [
           {
            "marker": {
             "colorbar": {
              "outlinewidth": 0,
              "ticks": ""
             }
            },
            "type": "scatterpolar"
           }
          ],
          "scatterpolargl": [
           {
            "marker": {
             "colorbar": {
              "outlinewidth": 0,
              "ticks": ""
             }
            },
            "type": "scatterpolargl"
           }
          ],
          "scatterternary": [
           {
            "marker": {
             "colorbar": {
              "outlinewidth": 0,
              "ticks": ""
             }
            },
            "type": "scatterternary"
           }
          ],
          "surface": [
           {
            "colorbar": {
             "outlinewidth": 0,
             "ticks": ""
            },
            "colorscale": [
             [
              0,
              "#0d0887"
             ],
             [
              0.1111111111111111,
              "#46039f"
             ],
             [
              0.2222222222222222,
              "#7201a8"
             ],
             [
              0.3333333333333333,
              "#9c179e"
             ],
             [
              0.4444444444444444,
              "#bd3786"
             ],
             [
              0.5555555555555556,
              "#d8576b"
             ],
             [
              0.6666666666666666,
              "#ed7953"
             ],
             [
              0.7777777777777778,
              "#fb9f3a"
             ],
             [
              0.8888888888888888,
              "#fdca26"
             ],
             [
              1,
              "#f0f921"
             ]
            ],
            "type": "surface"
           }
          ],
          "table": [
           {
            "cells": {
             "fill": {
              "color": "#EBF0F8"
             },
             "line": {
              "color": "white"
             }
            },
            "header": {
             "fill": {
              "color": "#C8D4E3"
             },
             "line": {
              "color": "white"
             }
            },
            "type": "table"
           }
          ]
         },
         "layout": {
          "annotationdefaults": {
           "arrowcolor": "#2a3f5f",
           "arrowhead": 0,
           "arrowwidth": 1
          },
          "autotypenumbers": "strict",
          "coloraxis": {
           "colorbar": {
            "outlinewidth": 0,
            "ticks": ""
           }
          },
          "colorscale": {
           "diverging": [
            [
             0,
             "#8e0152"
            ],
            [
             0.1,
             "#c51b7d"
            ],
            [
             0.2,
             "#de77ae"
            ],
            [
             0.3,
             "#f1b6da"
            ],
            [
             0.4,
             "#fde0ef"
            ],
            [
             0.5,
             "#f7f7f7"
            ],
            [
             0.6,
             "#e6f5d0"
            ],
            [
             0.7,
             "#b8e186"
            ],
            [
             0.8,
             "#7fbc41"
            ],
            [
             0.9,
             "#4d9221"
            ],
            [
             1,
             "#276419"
            ]
           ],
           "sequential": [
            [
             0,
             "#0d0887"
            ],
            [
             0.1111111111111111,
             "#46039f"
            ],
            [
             0.2222222222222222,
             "#7201a8"
            ],
            [
             0.3333333333333333,
             "#9c179e"
            ],
            [
             0.4444444444444444,
             "#bd3786"
            ],
            [
             0.5555555555555556,
             "#d8576b"
            ],
            [
             0.6666666666666666,
             "#ed7953"
            ],
            [
             0.7777777777777778,
             "#fb9f3a"
            ],
            [
             0.8888888888888888,
             "#fdca26"
            ],
            [
             1,
             "#f0f921"
            ]
           ],
           "sequentialminus": [
            [
             0,
             "#0d0887"
            ],
            [
             0.1111111111111111,
             "#46039f"
            ],
            [
             0.2222222222222222,
             "#7201a8"
            ],
            [
             0.3333333333333333,
             "#9c179e"
            ],
            [
             0.4444444444444444,
             "#bd3786"
            ],
            [
             0.5555555555555556,
             "#d8576b"
            ],
            [
             0.6666666666666666,
             "#ed7953"
            ],
            [
             0.7777777777777778,
             "#fb9f3a"
            ],
            [
             0.8888888888888888,
             "#fdca26"
            ],
            [
             1,
             "#f0f921"
            ]
           ]
          },
          "colorway": [
           "#636efa",
           "#EF553B",
           "#00cc96",
           "#ab63fa",
           "#FFA15A",
           "#19d3f3",
           "#FF6692",
           "#B6E880",
           "#FF97FF",
           "#FECB52"
          ],
          "font": {
           "color": "#2a3f5f"
          },
          "geo": {
           "bgcolor": "white",
           "lakecolor": "white",
           "landcolor": "#E5ECF6",
           "showlakes": true,
           "showland": true,
           "subunitcolor": "white"
          },
          "hoverlabel": {
           "align": "left"
          },
          "hovermode": "closest",
          "mapbox": {
           "style": "light"
          },
          "paper_bgcolor": "white",
          "plot_bgcolor": "#E5ECF6",
          "polar": {
           "angularaxis": {
            "gridcolor": "white",
            "linecolor": "white",
            "ticks": ""
           },
           "bgcolor": "#E5ECF6",
           "radialaxis": {
            "gridcolor": "white",
            "linecolor": "white",
            "ticks": ""
           }
          },
          "scene": {
           "xaxis": {
            "backgroundcolor": "#E5ECF6",
            "gridcolor": "white",
            "gridwidth": 2,
            "linecolor": "white",
            "showbackground": true,
            "ticks": "",
            "zerolinecolor": "white"
           },
           "yaxis": {
            "backgroundcolor": "#E5ECF6",
            "gridcolor": "white",
            "gridwidth": 2,
            "linecolor": "white",
            "showbackground": true,
            "ticks": "",
            "zerolinecolor": "white"
           },
           "zaxis": {
            "backgroundcolor": "#E5ECF6",
            "gridcolor": "white",
            "gridwidth": 2,
            "linecolor": "white",
            "showbackground": true,
            "ticks": "",
            "zerolinecolor": "white"
           }
          },
          "shapedefaults": {
           "line": {
            "color": "#2a3f5f"
           }
          },
          "ternary": {
           "aaxis": {
            "gridcolor": "white",
            "linecolor": "white",
            "ticks": ""
           },
           "baxis": {
            "gridcolor": "white",
            "linecolor": "white",
            "ticks": ""
           },
           "bgcolor": "#E5ECF6",
           "caxis": {
            "gridcolor": "white",
            "linecolor": "white",
            "ticks": ""
           }
          },
          "title": {
           "x": 0.05
          },
          "xaxis": {
           "automargin": true,
           "gridcolor": "white",
           "linecolor": "white",
           "ticks": "",
           "title": {
            "standoff": 15
           },
           "zerolinecolor": "white",
           "zerolinewidth": 2
          },
          "yaxis": {
           "automargin": true,
           "gridcolor": "white",
           "linecolor": "white",
           "ticks": "",
           "title": {
            "standoff": 15
           },
           "zerolinecolor": "white",
           "zerolinewidth": 2
          }
         }
        },
        "title": {
         "text": "Compare last 15 days vs next 30 days"
        },
        "xaxis": {
         "anchor": "y",
         "domain": [
          0,
          1
         ],
         "showgrid": false,
         "title": {
          "text": "Timestamp"
         }
        },
        "yaxis": {
         "anchor": "x",
         "domain": [
          0,
          1
         ],
         "showgrid": false,
         "title": {
          "text": "Stock price"
         }
        }
       }
      }
     },
     "metadata": {},
     "output_type": "display_data"
    }
   ],
   "source": [
    "temp_mat = np.empty((len(last_days)+pred_days+1,1))\n",
    "temp_mat[:] = np.nan\n",
    "temp_mat = temp_mat.reshape(1,-1).tolist()[0]\n",
    "\n",
    "last_original_days_value = temp_mat\n",
    "next_predicted_days_value = temp_mat\n",
    "\n",
    "last_original_days_value[0:time_step+1] = scaler.inverse_transform(close_data[len(close_data)-time_step:]).reshape(1,-1).tolist()[0]\n",
    "next_predicted_days_value[time_step+1:] = scaler.inverse_transform(np.array(lst_output).reshape(-1,1)).reshape(1,-1).tolist()[0]\n",
    "\n",
    "new_pred_plot = pd.DataFrame({\n",
    "    'last_original_days_value':last_original_days_value,\n",
    "    'next_predicted_days_value':next_predicted_days_value\n",
    "})\n",
    "from itertools import cycle\n",
    "import plotly.graph_objects as go\n",
    "import plotly.express as px\n",
    "from plotly.subplots import make_subplots\n",
    "\n",
    "names = cycle(['Last 15 days close price','Predicted next 30 days close price'])\n",
    "fig = px.line(new_pred_plot,x=new_pred_plot.index, y=[new_pred_plot['last_original_days_value'], new_pred_plot['next_predicted_days_value']], labels={'value': 'Stock price','index': 'Timestamp'})\n",
    "fig.update_layout(title_text='Compare last 15 days vs next 30 days', plot_bgcolor='white', font_size=15, font_color='black',legend_title_text='Close Price')\n",
    "\n",
    "fig.for_each_trace(lambda t:t.update(name = next(names)))\n",
    "fig.update_xaxes(showgrid=False)\n",
    "fig.update_yaxes(showgrid=False)\n",
    "fig.show()"
   ]
  },
  {
   "cell_type": "code",
   "execution_count": 43,
   "metadata": {},
   "outputs": [
    {
     "data": {
      "application/vnd.plotly.v1+json": {
       "config": {
        "plotlyServerURL": "https://plot.ly"
       },
       "data": [
        {
         "hovertemplate": "variable=0<br>Timestamp=%{x}<br>Stock price=%{y}<extra></extra>",
         "legendgroup": "0",
         "line": {
          "color": "#636efa",
          "dash": "solid"
         },
         "marker": {
          "symbol": "circle"
         },
         "mode": "lines",
         "name": "Close price",
         "orientation": "v",
         "showlegend": true,
         "type": "scatter",
         "x": [
          0,
          1,
          2,
          3,
          4,
          5,
          6,
          7,
          8,
          9,
          10,
          11,
          12,
          13,
          14,
          15,
          16,
          17,
          18,
          19,
          20,
          21,
          22,
          23,
          24,
          25,
          26,
          27,
          28,
          29,
          30,
          31,
          32,
          33,
          34,
          35,
          36,
          37,
          38,
          39,
          40,
          41,
          42,
          43,
          44,
          45,
          46,
          47,
          48,
          49,
          50,
          51,
          52,
          53,
          54,
          55,
          56,
          57,
          58,
          59,
          60,
          61,
          62,
          63,
          64,
          65,
          66,
          67,
          68,
          69,
          70,
          71,
          72,
          73,
          74,
          75,
          76,
          77,
          78,
          79,
          80,
          81,
          82,
          83,
          84,
          85,
          86,
          87,
          88,
          89,
          90,
          91,
          92,
          93,
          94,
          95,
          96,
          97,
          98,
          99,
          100,
          101,
          102,
          103,
          104,
          105,
          106,
          107,
          108,
          109,
          110,
          111,
          112,
          113,
          114,
          115,
          116,
          117,
          118,
          119,
          120,
          121,
          122,
          123,
          124,
          125,
          126,
          127,
          128,
          129,
          130,
          131,
          132,
          133,
          134,
          135,
          136,
          137,
          138,
          139,
          140,
          141,
          142,
          143,
          144,
          145,
          146,
          147,
          148,
          149,
          150,
          151,
          152,
          153,
          154,
          155,
          156,
          157,
          158,
          159,
          160,
          161,
          162,
          163,
          164,
          165,
          166,
          167,
          168,
          169,
          170,
          171,
          172,
          173,
          174,
          175,
          176,
          177,
          178,
          179,
          180,
          181,
          182,
          183,
          184,
          185,
          186,
          187,
          188,
          189,
          190,
          191,
          192,
          193,
          194,
          195,
          196,
          197,
          198,
          199,
          200,
          201,
          202,
          203,
          204,
          205,
          206,
          207,
          208,
          209,
          210,
          211,
          212,
          213,
          214,
          215,
          216,
          217,
          218,
          219,
          220,
          221,
          222,
          223,
          224,
          225,
          226,
          227,
          228,
          229,
          230,
          231,
          232,
          233,
          234,
          235,
          236,
          237,
          238,
          239,
          240,
          241,
          242,
          243,
          244,
          245,
          246,
          247,
          248,
          249,
          250,
          251,
          252,
          253,
          254,
          255,
          256,
          257,
          258,
          259,
          260,
          261,
          262,
          263,
          264,
          265,
          266,
          267,
          268,
          269,
          270,
          271,
          272,
          273,
          274,
          275,
          276,
          277,
          278,
          279,
          280,
          281,
          282,
          283,
          284,
          285,
          286,
          287,
          288,
          289,
          290,
          291,
          292,
          293,
          294,
          295,
          296,
          297,
          298,
          299,
          300,
          301,
          302,
          303,
          304,
          305,
          306,
          307,
          308,
          309,
          310,
          311,
          312,
          313,
          314,
          315,
          316,
          317,
          318,
          319,
          320,
          321,
          322,
          323,
          324,
          325,
          326,
          327,
          328,
          329,
          330,
          331,
          332,
          333,
          334,
          335,
          336,
          337,
          338,
          339,
          340,
          341,
          342,
          343,
          344,
          345,
          346,
          347,
          348,
          349,
          350,
          351,
          352,
          353,
          354,
          355,
          356,
          357,
          358,
          359,
          360,
          361,
          362,
          363,
          364,
          365,
          366,
          367,
          368,
          369,
          370,
          371,
          372,
          373,
          374,
          375,
          376,
          377,
          378,
          379,
          380,
          381,
          382,
          383,
          384,
          385,
          386,
          387,
          388,
          389,
          390,
          391,
          392,
          393,
          394,
          395,
          396,
          397,
          398,
          399,
          400,
          401,
          402,
          403,
          404,
          405,
          406,
          407,
          408,
          409,
          410,
          411,
          412,
          413,
          414,
          415,
          416,
          417,
          418,
          419,
          420,
          421,
          422,
          423,
          424,
          425,
          426,
          427,
          428,
          429,
          430,
          431,
          432,
          433,
          434,
          435,
          436,
          437,
          438,
          439,
          440,
          441,
          442,
          443,
          444,
          445,
          446,
          447,
          448,
          449,
          450,
          451,
          452,
          453,
          454,
          455,
          456,
          457,
          458,
          459,
          460,
          461,
          462,
          463,
          464,
          465,
          466,
          467,
          468,
          469,
          470,
          471,
          472,
          473,
          474,
          475,
          476,
          477,
          478,
          479,
          480,
          481,
          482,
          483,
          484,
          485,
          486,
          487,
          488,
          489,
          490,
          491,
          492,
          493,
          494,
          495,
          496,
          497,
          498,
          499,
          500,
          501,
          502,
          503,
          504,
          505,
          506,
          507,
          508,
          509,
          510,
          511,
          512,
          513,
          514,
          515,
          516,
          517,
          518,
          519,
          520,
          521,
          522,
          523,
          524,
          525,
          526,
          527,
          528,
          529,
          530,
          531,
          532,
          533,
          534,
          535,
          536,
          537,
          538,
          539,
          540,
          541,
          542,
          543,
          544,
          545,
          546,
          547,
          548,
          549,
          550,
          551,
          552,
          553,
          554,
          555,
          556,
          557,
          558,
          559,
          560,
          561,
          562,
          563,
          564,
          565,
          566,
          567,
          568,
          569,
          570,
          571,
          572,
          573,
          574,
          575,
          576,
          577,
          578,
          579,
          580,
          581,
          582,
          583,
          584,
          585,
          586,
          587,
          588,
          589,
          590,
          591,
          592,
          593,
          594,
          595,
          596,
          597,
          598,
          599,
          600,
          601,
          602,
          603,
          604,
          605,
          606,
          607,
          608,
          609,
          610,
          611,
          612,
          613,
          614,
          615,
          616,
          617,
          618,
          619,
          620,
          621,
          622,
          623,
          624,
          625,
          626,
          627,
          628,
          629,
          630,
          631,
          632,
          633,
          634,
          635,
          636,
          637,
          638,
          639,
          640,
          641,
          642,
          643,
          644,
          645,
          646,
          647,
          648,
          649,
          650,
          651,
          652,
          653,
          654,
          655,
          656,
          657,
          658,
          659,
          660,
          661,
          662,
          663,
          664,
          665,
          666,
          667,
          668,
          669,
          670,
          671,
          672,
          673,
          674,
          675,
          676,
          677,
          678,
          679,
          680,
          681,
          682,
          683,
          684,
          685,
          686,
          687,
          688,
          689,
          690,
          691,
          692,
          693,
          694,
          695,
          696,
          697,
          698,
          699,
          700,
          701,
          702,
          703,
          704,
          705,
          706,
          707,
          708,
          709,
          710,
          711,
          712,
          713,
          714,
          715,
          716,
          717,
          718,
          719,
          720,
          721,
          722,
          723,
          724,
          725,
          726,
          727,
          728,
          729,
          730,
          731,
          732,
          733,
          734,
          735,
          736,
          737,
          738,
          739,
          740,
          741,
          742,
          743,
          744,
          745,
          746,
          747,
          748,
          749,
          750,
          751,
          752,
          753,
          754,
          755,
          756,
          757,
          758,
          759,
          760
         ],
         "xaxis": "x",
         "y": [
          10619.452148,
          10575.974609,
          10549.329102,
          10669.583008,
          10793.339844,
          10604.40625,
          10668.96875,
          10915.685547,
          11064.458008,
          11296.361328,
          11384.181641,
          11555.363281,
          11425.899414,
          11429.506836,
          11495.349609,
          11322.123047,
          11358.101563,
          11483.359375,
          11742.037109,
          11916.334961,
          12823.689453,
          12965.891602,
          12931.539063,
          13108.0625,
          13031.173828,
          13075.248047,
          13654.21875,
          13271.285156,
          13437.882813,
          13546.522461,
          13780.995117,
          13737.109375,
          13550.489258,
          13950.300781,
          14133.707031,
          15579.848633,
          15565.880858999999,
          14833.753906000002,
          15479.567383,
          15332.31543,
          15290.902343999998,
          15701.339843999998,
          16276.34375,
          16317.808594,
          16068.138671999997,
          15955.587891,
          16716.111328,
          17645.40625,
          17804.005859,
          17817.089844,
          18621.314453,
          18642.232422,
          18370.001953,
          18364.121094,
          19107.464844,
          18732.121094,
          17150.623047,
          17108.402344,
          17717.414063,
          18177.484375,
          19625.835938,
          18802.998047,
          19201.091797,
          19445.398438,
          18699.765625,
          19154.230469,
          19345.121094,
          19191.630859,
          18321.144531,
          18553.916016,
          18264.992188,
          18058.904297,
          18803.65625,
          19142.382813,
          19246.644531,
          19417.076172,
          21310.597656,
          22805.162109,
          23137.960938,
          23869.832031,
          23477.294922,
          22803.082031,
          23783.029297,
          23241.345703,
          23735.949219,
          24664.791016,
          26437.037109,
          26272.294922000005,
          27084.808594000002,
          27362.437500000004,
          28840.953125,
          29001.720703,
          29374.152344000002,
          32127.267577999995,
          32782.023438,
          31971.914063,
          33992.429688,
          36824.363281,
          39371.042969,
          40797.609375,
          40254.546875,
          38356.441406,
          35566.65625,
          33922.960938,
          37316.359375,
          39187.328125,
          36825.367188,
          36178.140625,
          35791.277344,
          36630.074219,
          36069.804688,
          35547.75,
          30825.699219,
          33005.761719,
          32067.642578000003,
          32289.378906,
          32366.392578,
          32569.849609,
          30432.546874999996,
          33466.097656,
          34316.386719,
          34269.523438,
          33114.359375,
          33537.175781,
          35510.289063,
          37472.089844,
          36926.066406,
          38144.308594,
          39266.011719,
          38903.441406,
          46196.464844,
          46481.105469,
          44918.183594,
          47909.332031,
          47504.851563,
          47105.515625,
          48717.289063,
          47945.058594,
          49199.871094,
          52149.007813,
          51679.796875,
          55888.132813,
          56099.519531,
          57539.94531299999,
          54207.320313,
          48824.425781,
          49705.332031,
          47093.851563,
          46339.761719,
          46188.453125,
          45137.769531,
          49631.242188,
          48378.988281,
          50538.242188,
          48561.167969,
          48927.304688,
          48912.382813,
          51206.691406,
          52246.523438,
          54824.117188,
          56008.550781,
          57805.12109400001,
          57332.08984400001,
          61243.08593799999,
          59302.316406000005,
          55907.199219,
          56804.902344,
          58870.894531,
          57858.921875,
          58346.65234400001,
          58313.644531,
          57523.421875,
          54529.144531,
          54738.945313,
          52774.265625,
          51704.160156,
          55137.3125,
          55973.511719,
          55950.746094,
          57750.199219,
          58917.69140599999,
          58918.832031,
          59095.80859400001,
          59384.3125,
          57603.890625,
          58758.554688,
          59057.878906,
          58192.35937500001,
          56048.9375,
          58323.953125,
          58245.003906,
          59793.23437500001,
          60204.964844,
          59893.45312500001,
          63503.45703099999,
          63109.69531299999,
          63314.011719,
          61572.789063,
          60683.820313,
          56216.183594,
          55724.265625,
          56473.03125,
          53906.089844,
          51762.273438,
          51093.652344,
          50050.867188,
          49004.253906,
          54021.753906,
          55033.117188,
          54824.703125,
          53555.109375,
          57750.175781,
          57828.050781000005,
          56631.078125,
          57200.292968999995,
          53333.539063,
          57424.007813,
          56396.515625,
          57356.402344,
          58803.777344,
          58232.31640599999,
          55859.796875,
          56704.574219,
          49150.535156,
          49716.191406,
          49880.535156,
          46760.1875,
          46456.058594,
          43537.511719,
          42909.402344,
          37002.441406,
          40782.738281,
          37304.691406,
          37536.632813,
          34770.582031,
          38705.980469,
          38402.222656,
          39294.199219,
          38436.96875,
          35697.605469,
          34616.066406,
          35678.128906,
          37332.855469,
          36684.925781,
          37575.179688,
          39208.765625,
          36894.40625,
          35551.957031,
          35862.378906,
          33560.707031,
          33472.632813,
          37345.121094,
          36702.597656,
          37334.398438,
          35552.515625,
          39097.859375,
          40218.476563,
          40406.269531,
          38347.0625,
          38053.503906,
          35787.246094,
          35615.871094,
          35698.296875,
          31676.693359000004,
          32505.660156000005,
          33723.027344,
          34662.4375,
          31637.779297,
          32186.277344000002,
          34649.644531,
          34434.335938,
          35867.777344,
          35040.835938,
          33572.117188,
          33897.046875,
          34668.546875,
          35287.78125,
          33746.003906,
          34235.195313,
          33855.328125,
          32877.371094,
          33798.011719,
          33520.519531,
          34240.1875,
          33155.847656,
          32702.025391000003,
          32822.347656,
          31780.730469000002,
          31421.539063,
          31533.068359,
          31796.810547,
          30817.832030999998,
          29807.347656,
          32110.693358999997,
          32313.105468999995,
          33581.550781,
          34292.445313,
          35350.1875,
          37337.535156,
          39406.941406,
          39995.90625,
          40008.421875,
          42235.546875,
          41626.195313,
          39974.894531,
          39201.945313,
          38152.980469,
          39747.503906,
          40869.554688,
          42816.5,
          44555.800781,
          43798.117188,
          46365.402344,
          45585.03125,
          45593.636719,
          44428.289063,
          47793.320313,
          47096.945313,
          47047.003906,
          46004.484375,
          44695.359375,
          44801.1875,
          46717.578125,
          49339.175781,
          48905.492188,
          49321.652344,
          49546.148438,
          47706.117188,
          48960.789063,
          46942.21875,
          49058.667969,
          48902.402344,
          48829.832031,
          47054.984375,
          47166.6875,
          48847.027344,
          49327.722656,
          50025.375,
          49944.625,
          51753.410156,
          52633.535156,
          46811.128906,
          46091.390625,
          46391.421875,
          44883.910156,
          45201.457031,
          46063.269531,
          44963.074219,
          47092.492188,
          48176.347656,
          47783.359375,
          47267.519531,
          48278.363281,
          47260.21875,
          42843.800781,
          40693.675781,
          43574.507813,
          44895.097656,
          42839.75,
          42716.59375,
          43208.539063,
          42235.730469,
          41034.542969,
          41564.363281,
          43790.894531,
          48116.941406,
          47711.488281,
          48199.953125,
          49112.902344,
          51514.8125,
          55361.449219,
          53805.984375,
          53967.847656,
          54968.222656,
          54771.578125,
          57484.789063,
          56041.058594,
          57401.097656,
          57321.523438,
          61593.949219,
          60892.179688,
          61553.61718799999,
          62026.078125,
          64261.992188,
          65992.835938,
          62210.171875,
          60692.26562499999,
          61393.617188000004,
          60930.835938,
          63039.824218999995,
          60363.792969,
          58482.386719,
          60622.136719,
          62227.964843999995,
          61888.832031000005,
          61318.957031,
          61004.40625,
          63226.402344,
          62970.046875,
          61452.230469,
          61125.675781,
          61527.480468999995,
          63326.988281000005,
          67566.828125,
          66971.828125,
          64995.23046900001,
          64949.960938,
          64155.94140599999,
          64469.527344,
          65466.839843999995,
          63557.871094,
          60161.246093999995,
          60368.011719,
          56942.136719,
          58119.578125,
          59697.195313,
          58730.47656299999,
          56289.289063,
          57569.074219,
          56280.425781,
          57274.67968799999,
          53569.765625,
          54815.078125,
          57248.45703099999,
          57806.566406,
          57005.425781,
          57229.82812500001,
          56477.816406,
          53598.246094,
          49200.703125,
          49368.847656,
          50582.625,
          50700.085938,
          50504.796875,
          47672.121094,
          47243.304688,
          49362.507813,
          50098.335938,
          46737.480469,
          46612.632813,
          48896.722656,
          47665.425781,
          46202.144531,
          46848.777344,
          46707.015625,
          46880.277344,
          48936.613281,
          48628.511719,
          50784.539063,
          50822.195313,
          50429.859375,
          50809.515625,
          50640.417969,
          47588.855469,
          46444.710938,
          47178.125,
          46306.445313,
          47686.8125,
          47345.21875,
          46458.117188,
          45897.574219,
          43569.003906,
          43160.929688,
          41557.902344,
          41733.941406,
          41911.601563,
          41821.261719,
          42735.855469,
          43949.101563,
          42591.570313,
          43099.699219,
          43177.398438,
          43113.878906,
          42250.550781,
          42375.632813,
          41744.328125,
          40680.417969,
          36457.316406,
          35030.25,
          36276.804688,
          36654.328125,
          36954.003906,
          36852.121094,
          37138.234375,
          37784.332031,
          38138.179688,
          37917.601563,
          38483.125,
          38743.273438,
          36952.984375,
          37154.601563,
          41500.875,
          41441.164063,
          42412.433594,
          43840.285156,
          44118.445313,
          44338.796875,
          43565.113281,
          42407.9375,
          42244.46875,
          42197.515625,
          42586.917969,
          44575.203125,
          43961.859375,
          40538.011719,
          40030.976563,
          40122.15625,
          38431.378906,
          37075.28125,
          38286.027344,
          37296.570313,
          38332.609375,
          39214.21875,
          39105.148438,
          37709.785156,
          43193.234375,
          44354.636719,
          43924.117188,
          42451.789063,
          39137.605469,
          39400.585938,
          38419.984375,
          38062.039063,
          38737.269531,
          41982.925781,
          39437.460938,
          38794.972656,
          38904.011719,
          37849.664063,
          39666.753906,
          39338.785156,
          41143.929688,
          40951.378906,
          41801.15625,
          42190.652344,
          41247.824219,
          41077.996094,
          42358.808594,
          42892.957031,
          43960.933594,
          44348.730469,
          44500.828125,
          46820.492188,
          47128.003906,
          47465.730469,
          47062.664063,
          45538.675781,
          46281.644531,
          45868.949219,
          46453.566406,
          46622.675781,
          45555.992188,
          43206.738281,
          43503.847656,
          42287.664063,
          42782.136719,
          42207.671875,
          39521.902344,
          40127.183594,
          41166.730469,
          39935.515625,
          40553.464844,
          40424.484375,
          39716.953125,
          40826.214844,
          41502.75,
          41374.378906,
          40527.363281,
          39740.320313,
          39486.730469,
          39469.292969,
          40458.308594,
          38117.460938,
          39241.121094,
          39773.828125,
          38609.824219,
          37714.875,
          38469.09375,
          38529.328125,
          37750.453125,
          39698.371094,
          36575.140625,
          36040.921875,
          35501.953125,
          34059.265625,
          30296.953125,
          31022.90625,
          28936.355469,
          29047.751953000003,
          29283.103516,
          30101.265625,
          31305.113281000005,
          29862.917968999995,
          30425.857422,
          28720.271484,
          30314.333984,
          29200.740234,
          29432.226563,
          30323.722656,
          29098.910156,
          29655.585938,
          29562.361328,
          29267.224608999997,
          28627.574219,
          28814.900391,
          29445.957030999998,
          31726.390624999996,
          31792.310547000005,
          29799.080078,
          30467.488280999998,
          29704.390625,
          29832.914062999997,
          29906.662109,
          31370.671875000004,
          31155.478515999996,
          30214.355468999995,
          30111.998047000005,
          29083.804688,
          28360.810547,
          26762.648438,
          22487.388672,
          22206.792969,
          22572.839844,
          20381.650391,
          20471.482422,
          19017.642578,
          20553.271484,
          20599.537109,
          20710.597656,
          19987.029297,
          21085.876953,
          21231.65625,
          21502.337891,
          21027.294922,
          20735.478516,
          20280.634766,
          20104.023438,
          19784.726563,
          19269.367188,
          19242.255859,
          19297.076172,
          20231.261719,
          20190.115234,
          20548.246094,
          21637.587891,
          21731.117188,
          21592.207031,
          20860.449219,
          19970.556641,
          19323.914063,
          20212.074219,
          20569.919922,
          20836.328125,
          21190.316406,
          20779.34375,
          22485.689453,
          23389.433594,
          23231.732422,
          23164.628906,
          22714.978516,
          22465.478516,
          22609.164063,
          21361.701172,
          21239.753906,
          22930.548828,
          23843.886719,
          23804.632813,
          23656.207031,
          23336.896484,
          23314.199219,
          22978.117188,
          22846.507813,
          22630.957031,
          23289.314453,
          22961.279297,
          23175.890625,
          23809.486328,
          23164.318359,
          23947.642578,
          23957.529297,
          24402.818359,
          24424.068359,
          24319.333984,
          24136.972656,
          23883.291016,
          23335.998047,
          23212.738281,
          20877.552734,
          21166.060547,
          21534.121094,
          21398.908203,
          21528.087891,
          21395.019531,
          21600.904297,
          20260.019531,
          20041.738281,
          19616.814453,
          20297.994141,
          19796.808594,
          20049.763672,
          20127.140625,
          19969.771484,
          19832.087891,
          19986.712891,
          19812.371094,
          18837.667969,
          19290.324219,
          19329.833984,
          21381.152344,
          21680.539063,
          21769.255859,
          22370.449219,
          20296.707031,
          20241.089844,
          19701.210938,
          19772.583984,
          20127.576172,
          19419.505859,
          19544.128906,
          18890.789063,
          18547.400391,
          19413.550781,
          19297.638672,
          18937.011719,
          18802.097656,
          19222.671875,
          19110.546875,
          19426.720703,
          19573.050781,
          19431.789063,
          19312.095703,
          20337.621135810645,
          20630.944642638333,
          20933.91481378606,
          21253.521530120568,
          21595.320502227438,
          21956.85206010434,
          22332.229988284536,
          22724.984486719575,
          23136.0628894518,
          23564.908690833017,
          24010.864279608715,
          24472.29837204678,
          24953.815946182665,
          25449.46111714025,
          25965.857576573497,
          26498.690918861725,
          27051.05378608041,
          27619.571460008734,
          28210.578759139753,
          28820.54633314888,
          29455.273735554565,
          30111.92661087226,
          30794.51519827675,
          31502.89506118759,
          32227.978589813774,
          32905.42353570043,
          33559.85378693311,
          34203.52266329547,
          34835.58903411314,
          35453.206649124346
         ],
         "yaxis": "y"
        }
       ],
       "layout": {
        "font": {
         "color": "black",
         "size": 15
        },
        "legend": {
         "title": {
          "text": "Stock"
         },
         "tracegroupgap": 0
        },
        "margin": {
         "t": 60
        },
        "plot_bgcolor": "white",
        "template": {
         "data": {
          "bar": [
           {
            "error_x": {
             "color": "#2a3f5f"
            },
            "error_y": {
             "color": "#2a3f5f"
            },
            "marker": {
             "line": {
              "color": "#E5ECF6",
              "width": 0.5
             },
             "pattern": {
              "fillmode": "overlay",
              "size": 10,
              "solidity": 0.2
             }
            },
            "type": "bar"
           }
          ],
          "barpolar": [
           {
            "marker": {
             "line": {
              "color": "#E5ECF6",
              "width": 0.5
             },
             "pattern": {
              "fillmode": "overlay",
              "size": 10,
              "solidity": 0.2
             }
            },
            "type": "barpolar"
           }
          ],
          "carpet": [
           {
            "aaxis": {
             "endlinecolor": "#2a3f5f",
             "gridcolor": "white",
             "linecolor": "white",
             "minorgridcolor": "white",
             "startlinecolor": "#2a3f5f"
            },
            "baxis": {
             "endlinecolor": "#2a3f5f",
             "gridcolor": "white",
             "linecolor": "white",
             "minorgridcolor": "white",
             "startlinecolor": "#2a3f5f"
            },
            "type": "carpet"
           }
          ],
          "choropleth": [
           {
            "colorbar": {
             "outlinewidth": 0,
             "ticks": ""
            },
            "type": "choropleth"
           }
          ],
          "contour": [
           {
            "colorbar": {
             "outlinewidth": 0,
             "ticks": ""
            },
            "colorscale": [
             [
              0,
              "#0d0887"
             ],
             [
              0.1111111111111111,
              "#46039f"
             ],
             [
              0.2222222222222222,
              "#7201a8"
             ],
             [
              0.3333333333333333,
              "#9c179e"
             ],
             [
              0.4444444444444444,
              "#bd3786"
             ],
             [
              0.5555555555555556,
              "#d8576b"
             ],
             [
              0.6666666666666666,
              "#ed7953"
             ],
             [
              0.7777777777777778,
              "#fb9f3a"
             ],
             [
              0.8888888888888888,
              "#fdca26"
             ],
             [
              1,
              "#f0f921"
             ]
            ],
            "type": "contour"
           }
          ],
          "contourcarpet": [
           {
            "colorbar": {
             "outlinewidth": 0,
             "ticks": ""
            },
            "type": "contourcarpet"
           }
          ],
          "heatmap": [
           {
            "colorbar": {
             "outlinewidth": 0,
             "ticks": ""
            },
            "colorscale": [
             [
              0,
              "#0d0887"
             ],
             [
              0.1111111111111111,
              "#46039f"
             ],
             [
              0.2222222222222222,
              "#7201a8"
             ],
             [
              0.3333333333333333,
              "#9c179e"
             ],
             [
              0.4444444444444444,
              "#bd3786"
             ],
             [
              0.5555555555555556,
              "#d8576b"
             ],
             [
              0.6666666666666666,
              "#ed7953"
             ],
             [
              0.7777777777777778,
              "#fb9f3a"
             ],
             [
              0.8888888888888888,
              "#fdca26"
             ],
             [
              1,
              "#f0f921"
             ]
            ],
            "type": "heatmap"
           }
          ],
          "heatmapgl": [
           {
            "colorbar": {
             "outlinewidth": 0,
             "ticks": ""
            },
            "colorscale": [
             [
              0,
              "#0d0887"
             ],
             [
              0.1111111111111111,
              "#46039f"
             ],
             [
              0.2222222222222222,
              "#7201a8"
             ],
             [
              0.3333333333333333,
              "#9c179e"
             ],
             [
              0.4444444444444444,
              "#bd3786"
             ],
             [
              0.5555555555555556,
              "#d8576b"
             ],
             [
              0.6666666666666666,
              "#ed7953"
             ],
             [
              0.7777777777777778,
              "#fb9f3a"
             ],
             [
              0.8888888888888888,
              "#fdca26"
             ],
             [
              1,
              "#f0f921"
             ]
            ],
            "type": "heatmapgl"
           }
          ],
          "histogram": [
           {
            "marker": {
             "pattern": {
              "fillmode": "overlay",
              "size": 10,
              "solidity": 0.2
             }
            },
            "type": "histogram"
           }
          ],
          "histogram2d": [
           {
            "colorbar": {
             "outlinewidth": 0,
             "ticks": ""
            },
            "colorscale": [
             [
              0,
              "#0d0887"
             ],
             [
              0.1111111111111111,
              "#46039f"
             ],
             [
              0.2222222222222222,
              "#7201a8"
             ],
             [
              0.3333333333333333,
              "#9c179e"
             ],
             [
              0.4444444444444444,
              "#bd3786"
             ],
             [
              0.5555555555555556,
              "#d8576b"
             ],
             [
              0.6666666666666666,
              "#ed7953"
             ],
             [
              0.7777777777777778,
              "#fb9f3a"
             ],
             [
              0.8888888888888888,
              "#fdca26"
             ],
             [
              1,
              "#f0f921"
             ]
            ],
            "type": "histogram2d"
           }
          ],
          "histogram2dcontour": [
           {
            "colorbar": {
             "outlinewidth": 0,
             "ticks": ""
            },
            "colorscale": [
             [
              0,
              "#0d0887"
             ],
             [
              0.1111111111111111,
              "#46039f"
             ],
             [
              0.2222222222222222,
              "#7201a8"
             ],
             [
              0.3333333333333333,
              "#9c179e"
             ],
             [
              0.4444444444444444,
              "#bd3786"
             ],
             [
              0.5555555555555556,
              "#d8576b"
             ],
             [
              0.6666666666666666,
              "#ed7953"
             ],
             [
              0.7777777777777778,
              "#fb9f3a"
             ],
             [
              0.8888888888888888,
              "#fdca26"
             ],
             [
              1,
              "#f0f921"
             ]
            ],
            "type": "histogram2dcontour"
           }
          ],
          "mesh3d": [
           {
            "colorbar": {
             "outlinewidth": 0,
             "ticks": ""
            },
            "type": "mesh3d"
           }
          ],
          "parcoords": [
           {
            "line": {
             "colorbar": {
              "outlinewidth": 0,
              "ticks": ""
             }
            },
            "type": "parcoords"
           }
          ],
          "pie": [
           {
            "automargin": true,
            "type": "pie"
           }
          ],
          "scatter": [
           {
            "marker": {
             "colorbar": {
              "outlinewidth": 0,
              "ticks": ""
             }
            },
            "type": "scatter"
           }
          ],
          "scatter3d": [
           {
            "line": {
             "colorbar": {
              "outlinewidth": 0,
              "ticks": ""
             }
            },
            "marker": {
             "colorbar": {
              "outlinewidth": 0,
              "ticks": ""
             }
            },
            "type": "scatter3d"
           }
          ],
          "scattercarpet": [
           {
            "marker": {
             "colorbar": {
              "outlinewidth": 0,
              "ticks": ""
             }
            },
            "type": "scattercarpet"
           }
          ],
          "scattergeo": [
           {
            "marker": {
             "colorbar": {
              "outlinewidth": 0,
              "ticks": ""
             }
            },
            "type": "scattergeo"
           }
          ],
          "scattergl": [
           {
            "marker": {
             "colorbar": {
              "outlinewidth": 0,
              "ticks": ""
             }
            },
            "type": "scattergl"
           }
          ],
          "scattermapbox": [
           {
            "marker": {
             "colorbar": {
              "outlinewidth": 0,
              "ticks": ""
             }
            },
            "type": "scattermapbox"
           }
          ],
          "scatterpolar": [
           {
            "marker": {
             "colorbar": {
              "outlinewidth": 0,
              "ticks": ""
             }
            },
            "type": "scatterpolar"
           }
          ],
          "scatterpolargl": [
           {
            "marker": {
             "colorbar": {
              "outlinewidth": 0,
              "ticks": ""
             }
            },
            "type": "scatterpolargl"
           }
          ],
          "scatterternary": [
           {
            "marker": {
             "colorbar": {
              "outlinewidth": 0,
              "ticks": ""
             }
            },
            "type": "scatterternary"
           }
          ],
          "surface": [
           {
            "colorbar": {
             "outlinewidth": 0,
             "ticks": ""
            },
            "colorscale": [
             [
              0,
              "#0d0887"
             ],
             [
              0.1111111111111111,
              "#46039f"
             ],
             [
              0.2222222222222222,
              "#7201a8"
             ],
             [
              0.3333333333333333,
              "#9c179e"
             ],
             [
              0.4444444444444444,
              "#bd3786"
             ],
             [
              0.5555555555555556,
              "#d8576b"
             ],
             [
              0.6666666666666666,
              "#ed7953"
             ],
             [
              0.7777777777777778,
              "#fb9f3a"
             ],
             [
              0.8888888888888888,
              "#fdca26"
             ],
             [
              1,
              "#f0f921"
             ]
            ],
            "type": "surface"
           }
          ],
          "table": [
           {
            "cells": {
             "fill": {
              "color": "#EBF0F8"
             },
             "line": {
              "color": "white"
             }
            },
            "header": {
             "fill": {
              "color": "#C8D4E3"
             },
             "line": {
              "color": "white"
             }
            },
            "type": "table"
           }
          ]
         },
         "layout": {
          "annotationdefaults": {
           "arrowcolor": "#2a3f5f",
           "arrowhead": 0,
           "arrowwidth": 1
          },
          "autotypenumbers": "strict",
          "coloraxis": {
           "colorbar": {
            "outlinewidth": 0,
            "ticks": ""
           }
          },
          "colorscale": {
           "diverging": [
            [
             0,
             "#8e0152"
            ],
            [
             0.1,
             "#c51b7d"
            ],
            [
             0.2,
             "#de77ae"
            ],
            [
             0.3,
             "#f1b6da"
            ],
            [
             0.4,
             "#fde0ef"
            ],
            [
             0.5,
             "#f7f7f7"
            ],
            [
             0.6,
             "#e6f5d0"
            ],
            [
             0.7,
             "#b8e186"
            ],
            [
             0.8,
             "#7fbc41"
            ],
            [
             0.9,
             "#4d9221"
            ],
            [
             1,
             "#276419"
            ]
           ],
           "sequential": [
            [
             0,
             "#0d0887"
            ],
            [
             0.1111111111111111,
             "#46039f"
            ],
            [
             0.2222222222222222,
             "#7201a8"
            ],
            [
             0.3333333333333333,
             "#9c179e"
            ],
            [
             0.4444444444444444,
             "#bd3786"
            ],
            [
             0.5555555555555556,
             "#d8576b"
            ],
            [
             0.6666666666666666,
             "#ed7953"
            ],
            [
             0.7777777777777778,
             "#fb9f3a"
            ],
            [
             0.8888888888888888,
             "#fdca26"
            ],
            [
             1,
             "#f0f921"
            ]
           ],
           "sequentialminus": [
            [
             0,
             "#0d0887"
            ],
            [
             0.1111111111111111,
             "#46039f"
            ],
            [
             0.2222222222222222,
             "#7201a8"
            ],
            [
             0.3333333333333333,
             "#9c179e"
            ],
            [
             0.4444444444444444,
             "#bd3786"
            ],
            [
             0.5555555555555556,
             "#d8576b"
            ],
            [
             0.6666666666666666,
             "#ed7953"
            ],
            [
             0.7777777777777778,
             "#fb9f3a"
            ],
            [
             0.8888888888888888,
             "#fdca26"
            ],
            [
             1,
             "#f0f921"
            ]
           ]
          },
          "colorway": [
           "#636efa",
           "#EF553B",
           "#00cc96",
           "#ab63fa",
           "#FFA15A",
           "#19d3f3",
           "#FF6692",
           "#B6E880",
           "#FF97FF",
           "#FECB52"
          ],
          "font": {
           "color": "#2a3f5f"
          },
          "geo": {
           "bgcolor": "white",
           "lakecolor": "white",
           "landcolor": "#E5ECF6",
           "showlakes": true,
           "showland": true,
           "subunitcolor": "white"
          },
          "hoverlabel": {
           "align": "left"
          },
          "hovermode": "closest",
          "mapbox": {
           "style": "light"
          },
          "paper_bgcolor": "white",
          "plot_bgcolor": "#E5ECF6",
          "polar": {
           "angularaxis": {
            "gridcolor": "white",
            "linecolor": "white",
            "ticks": ""
           },
           "bgcolor": "#E5ECF6",
           "radialaxis": {
            "gridcolor": "white",
            "linecolor": "white",
            "ticks": ""
           }
          },
          "scene": {
           "xaxis": {
            "backgroundcolor": "#E5ECF6",
            "gridcolor": "white",
            "gridwidth": 2,
            "linecolor": "white",
            "showbackground": true,
            "ticks": "",
            "zerolinecolor": "white"
           },
           "yaxis": {
            "backgroundcolor": "#E5ECF6",
            "gridcolor": "white",
            "gridwidth": 2,
            "linecolor": "white",
            "showbackground": true,
            "ticks": "",
            "zerolinecolor": "white"
           },
           "zaxis": {
            "backgroundcolor": "#E5ECF6",
            "gridcolor": "white",
            "gridwidth": 2,
            "linecolor": "white",
            "showbackground": true,
            "ticks": "",
            "zerolinecolor": "white"
           }
          },
          "shapedefaults": {
           "line": {
            "color": "#2a3f5f"
           }
          },
          "ternary": {
           "aaxis": {
            "gridcolor": "white",
            "linecolor": "white",
            "ticks": ""
           },
           "baxis": {
            "gridcolor": "white",
            "linecolor": "white",
            "ticks": ""
           },
           "bgcolor": "#E5ECF6",
           "caxis": {
            "gridcolor": "white",
            "linecolor": "white",
            "ticks": ""
           }
          },
          "title": {
           "x": 0.05
          },
          "xaxis": {
           "automargin": true,
           "gridcolor": "white",
           "linecolor": "white",
           "ticks": "",
           "title": {
            "standoff": 15
           },
           "zerolinecolor": "white",
           "zerolinewidth": 2
          },
          "yaxis": {
           "automargin": true,
           "gridcolor": "white",
           "linecolor": "white",
           "ticks": "",
           "title": {
            "standoff": 15
           },
           "zerolinecolor": "white",
           "zerolinewidth": 2
          }
         }
        },
        "title": {
         "text": "Plotting whole closing stock price with prediction"
        },
        "xaxis": {
         "anchor": "y",
         "domain": [
          0,
          1
         ],
         "showgrid": false,
         "title": {
          "text": "Timestamp"
         }
        },
        "yaxis": {
         "anchor": "x",
         "domain": [
          0,
          1
         ],
         "showgrid": false,
         "title": {
          "text": "Stock price"
         }
        }
       }
      }
     },
     "metadata": {},
     "output_type": "display_data"
    }
   ],
   "source": [
    "lstm_data=close_data.tolist()\n",
    "lstm_data.extend((np.array(lst_output).reshape(-1,1)).tolist())\n",
    "lstm_data=scaler.inverse_transform(lstm_data).reshape(1,-1).tolist()[0]\n",
    "\n",
    "names = cycle(['Close price'])\n",
    "\n",
    "fig = px.line(lstm_data,labels={'value': 'Stock price','index': 'Timestamp'})\n",
    "fig.update_layout(title_text='Plotting whole closing stock price with prediction',plot_bgcolor='white', font_size=15, font_color='black',legend_title_text='Stock')\n",
    "\n",
    "fig.for_each_trace(lambda t:  t.update(name = next(names)))\n",
    "\n",
    "fig.update_xaxes(showgrid=False)\n",
    "fig.update_yaxes(showgrid=False)\n",
    "fig.show()"
   ]
  }
 ],
 "metadata": {
  "kernelspec": {
   "display_name": "Python 3.9.12 64-bit ('anaconda3')",
   "language": "python",
   "name": "python3"
  },
  "language_info": {
   "codemirror_mode": {
    "name": "ipython",
    "version": 3
   },
   "file_extension": ".py",
   "mimetype": "text/x-python",
   "name": "python",
   "nbconvert_exporter": "python",
   "pygments_lexer": "ipython3",
   "version": "3.9.12"
  },
  "orig_nbformat": 4,
  "vscode": {
   "interpreter": {
    "hash": "028b4a207a84b572697b59a637b9e1c19902059a30a916f7fff4f012a90a9654"
   }
  }
 },
 "nbformat": 4,
 "nbformat_minor": 2
}
